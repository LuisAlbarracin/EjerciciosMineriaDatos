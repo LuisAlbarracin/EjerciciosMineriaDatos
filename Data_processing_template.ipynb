
<!-- saved from url=(0109)https://uvirtual.cloud.ufps.edu.co/pluginfile.php/36000/mod_resource/content/2/Data_processing_template.ipynb -->
<html><head><meta http-equiv="Content-Type" content="text/html; charset=UTF-8"></head><body>{
 "cells": [
  {
   "cell_type": "code",
   "execution_count": 1,
   "metadata": {},
   "outputs": [],
   "source": [
    "# Plantilla de Pre Procesado\n",
    "\n",
    "# Cómo importar las librerías\n",
    "import numpy as np\n",
    "import matplotlib.pyplot as plt\n",
    "import pandas as pd"
   ]
  },
  {
   "cell_type": "code",
   "execution_count": 21,
   "metadata": {},
   "outputs": [
    {
     "name": "stdout",
     "output_type": "stream",
     "text": [
      "   Country   Age   Salary Purchased\n",
      "0   France  44.0  72000.0        No\n",
      "1    Spain  27.0  48000.0       Yes\n",
      "2  Germany  30.0  54000.0        No\n",
      "3    Spain  38.0  61000.0        No\n",
      "4  Germany  40.0      NaN       Yes\n"
     ]
    }
   ],
   "source": [
    "# Importar el data set\n",
    "dataset = pd.read_csv('Data.csv')\n",
    "print(dataset.head())\n",
    "X = dataset.iloc[:, :-1]\n",
    "y = dataset.iloc[:, 3]"
   ]
  },
  {
   "cell_type": "code",
   "execution_count": 3,
   "metadata": {},
   "outputs": [
    {
     "data": {
      "text/html": [
       "<div>\n",
       "<style scoped="">\n",
       "    .dataframe tbody tr th:only-of-type {\n",
       "        vertical-align: middle;\n",
       "    }\n",
       "\n",
       "    .dataframe tbody tr th {\n",
       "        vertical-align: top;\n",
       "    }\n",
       "\n",
       "    .dataframe thead th {\n",
       "        text-align: right;\n",
       "    }\n",
       "</style>\n",
       "\n",
       "  \n",
       "    \n",
       "      \n",
       "      \n",
       "      \n",
       "      \n",
       "    \n",
       "  \n",
       "  \n",
       "    \n",
       "      \n",
       "      \n",
       "      \n",
       "      \n",
       "    \n",
       "    \n",
       "      \n",
       "      \n",
       "      \n",
       "      \n",
       "    \n",
       "    \n",
       "      \n",
       "      \n",
       "      \n",
       "      \n",
       "    \n",
       "    \n",
       "      \n",
       "      \n",
       "      \n",
       "      \n",
       "    \n",
       "    \n",
       "      \n",
       "      \n",
       "      \n",
       "      \n",
       "    \n",
       "  \n",
       "<table border="\&quot;1\&quot;" class="\&quot;dataframe\&quot;"><thead><tr style="\&quot;text-align:" right;\"=""><th></th><th>Country</th><th>Age</th><th>Salary</th></tr></thead><tbody><tr><td>0</td><td>France</td><td>44.0</td><td>72000.0</td></tr><tr><td>1</td><td>Spain</td><td>27.0</td><td>48000.0</td></tr><tr><td>2</td><td>Germany</td><td>30.0</td><td>54000.0</td></tr><tr><td>3</td><td>Spain</td><td>38.0</td><td>61000.0</td></tr><tr><td>4</td><td>Germany</td><td>40.0</td><td>NaN</td></tr></tbody></table>\n",
       "</div>"
      ],
      "text/plain": [
       "   Country   Age   Salary\n",
       "0   France  44.0  72000.0\n",
       "1    Spain  27.0  48000.0\n",
       "2  Germany  30.0  54000.0\n",
       "3    Spain  38.0  61000.0\n",
       "4  Germany  40.0      NaN"
      ]
     },
     "execution_count": 3,
     "metadata": {},
     "output_type": "execute_result"
    }
   ],
   "source": [
    "X.head()"
   ]
  },
  {
   "cell_type": "code",
   "execution_count": 4,
   "metadata": {},
   "outputs": [
    {
     "data": {
      "text/plain": [
       "0     No\n",
       "1    Yes\n",
       "2     No\n",
       "3     No\n",
       "4    Yes\n",
       "Name: Purchased, dtype: object"
      ]
     },
     "execution_count": 4,
     "metadata": {},
     "output_type": "execute_result"
    }
   ],
   "source": [
    "y.head()"
   ]
  },
  {
   "cell_type": "code",
   "execution_count": 5,
   "metadata": {},
   "outputs": [],
   "source": [
    "# Escalado de variables\n",
    "from sklearn.preprocessing import StandardScaler\n",
    "numericos=X.select_dtypes(\"number\") # separar las columnas numericas\n",
    "categoricos=X.select_dtypes(\"object\") # seoparar las columnas categoricas\n",
    "#definir la escala\n",
    "sc_X = StandardScaler()\n",
    "#crear nuevo dataframe con los datos numericos escalados\n",
    "numericos_std =pd.DataFrame(data=sc_X.fit_transform(numericos), columns=numericos.columns.values)\n",
    "# unir los dataframe de categoricos con el dataframe de los numeicos escalados\n",
    "X = pd.merge(categoricos,numericos_std, left_index=True, right_index=True)\n",
    "\n",
    "\n",
    "\n"
   ]
  },
  {
   "cell_type": "code",
   "execution_count": 7,
   "metadata": {},
   "outputs": [
    {
     "data": {
      "text/html": [
       "<div>\n",
       "<style scoped="">\n",
       "    .dataframe tbody tr th:only-of-type {\n",
       "        vertical-align: middle;\n",
       "    }\n",
       "\n",
       "    .dataframe tbody tr th {\n",
       "        vertical-align: top;\n",
       "    }\n",
       "\n",
       "    .dataframe thead th {\n",
       "        text-align: right;\n",
       "    }\n",
       "</style>\n",
       "\n",
       "  \n",
       "    \n",
       "      \n",
       "      \n",
       "      \n",
       "      \n",
       "    \n",
       "  \n",
       "  \n",
       "    \n",
       "      \n",
       "      \n",
       "      \n",
       "      \n",
       "    \n",
       "    \n",
       "      \n",
       "      \n",
       "      \n",
       "      \n",
       "    \n",
       "    \n",
       "      \n",
       "      \n",
       "      \n",
       "      \n",
       "    \n",
       "    \n",
       "      \n",
       "      \n",
       "      \n",
       "      \n",
       "    \n",
       "    \n",
       "      \n",
       "      \n",
       "      \n",
       "      \n",
       "    \n",
       "  \n",
       "<table border="\&quot;1\&quot;" class="\&quot;dataframe\&quot;"><thead><tr style="\&quot;text-align:" right;\"=""><th></th><th>Country</th><th>Age</th><th>Salary</th></tr></thead><tbody><tr><td>0</td><td>France</td><td>0.719931</td><td>0.711013</td></tr><tr><td>1</td><td>Spain</td><td>-1.623675</td><td>-1.364376</td></tr><tr><td>2</td><td>Germany</td><td>-1.210098</td><td>-0.845529</td></tr><tr><td>3</td><td>Spain</td><td>-0.107224</td><td>-0.240207</td></tr><tr><td>4</td><td>Germany</td><td>0.168495</td><td>NaN</td></tr></tbody></table>\n",
       "</div>"
      ],
      "text/plain": [
       "   Country       Age    Salary\n",
       "0   France  0.719931  0.711013\n",
       "1    Spain -1.623675 -1.364376\n",
       "2  Germany -1.210098 -0.845529\n",
       "3    Spain -0.107224 -0.240207\n",
       "4  Germany  0.168495       NaN"
      ]
     },
     "execution_count": 7,
     "metadata": {},
     "output_type": "execute_result"
    }
   ],
   "source": [
    "X.head()"
   ]
  },
  {
   "cell_type": "code",
   "execution_count": 9,
   "metadata": {},
   "outputs": [],
   "source": [
    "# Normalizado de variables\n",
    "from sklearn.preprocessing import MinMaxScaler\n",
    "numericos=X.select_dtypes(\"number\") # separar las columnas numericas\n",
    "categoricos=X.select_dtypes(\"object\") # seoparar las columnas categoricas\n",
    "#definir la escala\n",
    "sc_X = MinMaxScaler()\n",
    "#crear nuevo dataframe con los datos numericos escalados\n",
    "numericos_std =pd.DataFrame(data=sc_X.fit_transform(numericos), columns=numericos.columns.values)\n",
    "# unir los dataframe de categoricos con el dataframe de los numeicos escalados\n",
    "X = pd.merge(categoricos,numericos_std, left_index=True, right_index=True)\n",
    "\n"
   ]
  },
  {
   "cell_type": "code",
   "execution_count": 10,
   "metadata": {},
   "outputs": [
    {
     "data": {
      "text/html": [
       "<div>\n",
       "<style scoped="">\n",
       "    .dataframe tbody tr th:only-of-type {\n",
       "        vertical-align: middle;\n",
       "    }\n",
       "\n",
       "    .dataframe tbody tr th {\n",
       "        vertical-align: top;\n",
       "    }\n",
       "\n",
       "    .dataframe thead th {\n",
       "        text-align: right;\n",
       "    }\n",
       "</style>\n",
       "\n",
       "  \n",
       "    \n",
       "      \n",
       "      \n",
       "      \n",
       "      \n",
       "    \n",
       "  \n",
       "  \n",
       "    \n",
       "      \n",
       "      \n",
       "      \n",
       "      \n",
       "    \n",
       "    \n",
       "      \n",
       "      \n",
       "      \n",
       "      \n",
       "    \n",
       "    \n",
       "      \n",
       "      \n",
       "      \n",
       "      \n",
       "    \n",
       "    \n",
       "      \n",
       "      \n",
       "      \n",
       "      \n",
       "    \n",
       "    \n",
       "      \n",
       "      \n",
       "      \n",
       "      \n",
       "    \n",
       "  \n",
       "<table border="\&quot;1\&quot;" class="\&quot;dataframe\&quot;"><thead><tr style="\&quot;text-align:" right;\"=""><th></th><th>Country</th><th>Age</th><th>Salary</th></tr></thead><tbody><tr><td>0</td><td>France</td><td>0.739130</td><td>0.685714</td></tr><tr><td>1</td><td>Spain</td><td>0.000000</td><td>0.000000</td></tr><tr><td>2</td><td>Germany</td><td>0.130435</td><td>0.171429</td></tr><tr><td>3</td><td>Spain</td><td>0.478261</td><td>0.371429</td></tr><tr><td>4</td><td>Germany</td><td>0.565217</td><td>NaN</td></tr></tbody></table>\n",
       "</div>"
      ],
      "text/plain": [
       "   Country       Age    Salary\n",
       "0   France  0.739130  0.685714\n",
       "1    Spain  0.000000  0.000000\n",
       "2  Germany  0.130435  0.171429\n",
       "3    Spain  0.478261  0.371429\n",
       "4  Germany  0.565217       NaN"
      ]
     },
     "execution_count": 10,
     "metadata": {},
     "output_type": "execute_result"
    }
   ],
   "source": [
    "X.head()"
   ]
  },
  {
   "cell_type": "code",
   "execution_count": 12,
   "metadata": {},
   "outputs": [],
   "source": [
    "# Dividir el data set en conjunto de entrenamiento y conjunto de testing\n",
    "from sklearn.model_selection import train_test_split\n",
    "X_train, X_test, y_train, y_test = train_test_split(X, y, test_size = 0.2, random_state = 0)"
   ]
  },
  {
   "cell_type": "code",
   "execution_count": 13,
   "metadata": {},
   "outputs": [
    {
     "data": {
      "text/html": [
       "<div>\n",
       "<style scoped="">\n",
       "    .dataframe tbody tr th:only-of-type {\n",
       "        vertical-align: middle;\n",
       "    }\n",
       "\n",
       "    .dataframe tbody tr th {\n",
       "        vertical-align: top;\n",
       "    }\n",
       "\n",
       "    .dataframe thead th {\n",
       "        text-align: right;\n",
       "    }\n",
       "</style>\n",
       "\n",
       "  \n",
       "    \n",
       "      \n",
       "      \n",
       "      \n",
       "      \n",
       "    \n",
       "  \n",
       "  \n",
       "    \n",
       "      \n",
       "      \n",
       "      \n",
       "      \n",
       "    \n",
       "    \n",
       "      \n",
       "      \n",
       "      \n",
       "      \n",
       "    \n",
       "    \n",
       "      \n",
       "      \n",
       "      \n",
       "      \n",
       "    \n",
       "    \n",
       "      \n",
       "      \n",
       "      \n",
       "      \n",
       "    \n",
       "    \n",
       "      \n",
       "      \n",
       "      \n",
       "      \n",
       "    \n",
       "    \n",
       "      \n",
       "      \n",
       "      \n",
       "      \n",
       "    \n",
       "    \n",
       "      \n",
       "      \n",
       "      \n",
       "      \n",
       "    \n",
       "    \n",
       "      \n",
       "      \n",
       "      \n",
       "      \n",
       "    \n",
       "  \n",
       "<table border="\&quot;1\&quot;" class="\&quot;dataframe\&quot;"><thead><tr style="\&quot;text-align:" right;\"=""><th></th><th>Country</th><th>Age</th><th>Salary</th></tr></thead><tbody><tr><td>4</td><td>Germany</td><td>0.565217</td><td>NaN</td></tr><tr><td>9</td><td>France</td><td>0.434783</td><td>0.542857</td></tr><tr><td>1</td><td>Spain</td><td>0.000000</td><td>0.000000</td></tr><tr><td>6</td><td>Spain</td><td>NaN</td><td>0.114286</td></tr><tr><td>7</td><td>France</td><td>0.913043</td><td>0.885714</td></tr><tr><td>3</td><td>Spain</td><td>0.478261</td><td>0.371429</td></tr><tr><td>0</td><td>France</td><td>0.739130</td><td>0.685714</td></tr><tr><td>5</td><td>France</td><td>0.347826</td><td>0.285714</td></tr></tbody></table>\n",
       "</div>"
      ],
      "text/plain": [
       "   Country       Age    Salary\n",
       "4  Germany  0.565217       NaN\n",
       "9   France  0.434783  0.542857\n",
       "1    Spain  0.000000  0.000000\n",
       "6    Spain       NaN  0.114286\n",
       "7   France  0.913043  0.885714\n",
       "3    Spain  0.478261  0.371429\n",
       "0   France  0.739130  0.685714\n",
       "5   France  0.347826  0.285714"
      ]
     },
     "execution_count": 13,
     "metadata": {},
     "output_type": "execute_result"
    }
   ],
   "source": [
    "X_train"
   ]
  },
  {
   "cell_type": "code",
   "execution_count": 14,
   "metadata": {},
   "outputs": [
    {
     "data": {
      "text/html": [
       "<div>\n",
       "<style scoped="">\n",
       "    .dataframe tbody tr th:only-of-type {\n",
       "        vertical-align: middle;\n",
       "    }\n",
       "\n",
       "    .dataframe tbody tr th {\n",
       "        vertical-align: top;\n",
       "    }\n",
       "\n",
       "    .dataframe thead th {\n",
       "        text-align: right;\n",
       "    }\n",
       "</style>\n",
       "\n",
       "  \n",
       "    \n",
       "      \n",
       "      \n",
       "      \n",
       "      \n",
       "    \n",
       "  \n",
       "  \n",
       "    \n",
       "      \n",
       "      \n",
       "      \n",
       "      \n",
       "    \n",
       "    \n",
       "      \n",
       "      \n",
       "      \n",
       "      \n",
       "    \n",
       "  \n",
       "<table border="\&quot;1\&quot;" class="\&quot;dataframe\&quot;"><thead><tr style="\&quot;text-align:" right;\"=""><th></th><th>Country</th><th>Age</th><th>Salary</th></tr></thead><tbody><tr><td>2</td><td>Germany</td><td>0.130435</td><td>0.171429</td></tr><tr><td>8</td><td>Germany</td><td>1.000000</td><td>1.000000</td></tr></tbody></table>\n",
       "</div>"
      ],
      "text/plain": [
       "   Country       Age    Salary\n",
       "2  Germany  0.130435  0.171429\n",
       "8  Germany  1.000000  1.000000"
      ]
     },
     "execution_count": 14,
     "metadata": {},
     "output_type": "execute_result"
    }
   ],
   "source": [
    "X_test"
   ]
  },
  {
   "cell_type": "code",
   "execution_count": 15,
   "metadata": {},
   "outputs": [
    {
     "name": "stdout",
     "output_type": "stream",
     "text": [
      "   Country       Age    Salary\n",
      "2  Germany  0.130435  0.171429\n",
      "8  Germany  1.000000  1.000000\n",
      "   Country       Age    Salary\n",
      "4  Germany  0.565217       NaN\n",
      "9   France  0.434783  0.542857\n",
      "1    Spain  0.000000  0.000000\n",
      "6    Spain       NaN  0.114286\n",
      "7   France  0.913043  0.885714\n",
      "3    Spain  0.478261  0.371429\n",
      "0   France  0.739130  0.685714\n",
      "5   France  0.347826  0.285714\n",
      "2    No\n",
      "8    No\n",
      "Name: Purchased, dtype: object\n",
      "4    Yes\n",
      "9    Yes\n",
      "1    Yes\n",
      "6     No\n",
      "7    Yes\n",
      "3     No\n",
      "0     No\n",
      "5    Yes\n",
      "Name: Purchased, dtype: object\n"
     ]
    }
   ],
   "source": [
    "print(X_test)\n",
    "print(X_train)\n",
    "print(y_test)\n",
    "print(y_train)\n"
   ]
  },
  {
   "cell_type": "code",
   "execution_count": 22,
   "metadata": {},
   "outputs": [
    {
     "data": {
      "text/plain": [
       "0     No\n",
       "1    Yes\n",
       "2     No\n",
       "3     No\n",
       "4    Yes\n",
       "5    Yes\n",
       "6     No\n",
       "7    Yes\n",
       "8     No\n",
       "9    Yes\n",
       "Name: Purchased, dtype: object"
      ]
     },
     "execution_count": 22,
     "metadata": {},
     "output_type": "execute_result"
    }
   ],
   "source": [
    "y"
   ]
  },
  {
   "cell_type": "code",
   "execution_count": 34,
   "metadata": {},
   "outputs": [],
   "source": [
    "from sklearn.preprocessing import LabelEncoder\n",
    "Sc_y = LabelEncoder()\n",
    "Sc_y.fit(y)\n",
    "y=Sc_y.transform(y)"
   ]
  },
  {
   "cell_type": "code",
   "execution_count": 35,
   "metadata": {},
   "outputs": [
    {
     "data": {
      "text/plain": [
       "array([0, 1, 0, 0, 1, 1, 0, 1, 0, 1])"
      ]
     },
     "execution_count": 35,
     "metadata": {},
     "output_type": "execute_result"
    }
   ],
   "source": [
    "y"
   ]
  },
  {
   "cell_type": "code",
   "execution_count": null,
   "metadata": {},
   "outputs": [],
   "source": []
  }
 ],
 "metadata": {
  "kernelspec": {
   "display_name": "Python 3",
   "language": "python",
   "name": "python3"
  },
  "language_info": {
   "codemirror_mode": {
    "name": "ipython",
    "version": 3
   },
   "file_extension": ".py",
   "mimetype": "text/x-python",
   "name": "python",
   "nbconvert_exporter": "python",
   "pygments_lexer": "ipython3",
   "version": "3.7.4"
  }
 },
 "nbformat": 4,
 "nbformat_minor": 2
}
</body></html>