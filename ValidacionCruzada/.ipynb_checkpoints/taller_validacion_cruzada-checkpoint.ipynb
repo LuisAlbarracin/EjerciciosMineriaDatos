{
 "cells": [
  {
   "cell_type": "code",
   "execution_count": 23,
   "id": "78060742",
   "metadata": {},
   "outputs": [],
   "source": [
    "from sklearn.model_selection import cross_val_predict, cross_val_score, cross_validate\n",
    "from sklearn import linear_model\n",
    "import numpy as np\n",
    "import pandas as pd\n",
    "import matplotlib.pyplot as plt"
   ]
  },
  {
   "cell_type": "code",
   "execution_count": 24,
   "id": "fbb4115f",
   "metadata": {},
   "outputs": [],
   "source": [
    "lr = linear_model.LinearRegression()\n",
    "dataset = pd.read_csv('vehiculos_procesado.csv', usecols=[\"consumo\", \"co2\", \"cilindros\", \"desplazamiento\"])"
   ]
  },
  {
   "cell_type": "code",
   "execution_count": 25,
   "id": "9e6d69a7",
   "metadata": {},
   "outputs": [
    {
     "data": {
      "text/html": [
       "<div>\n",
       "<style scoped>\n",
       "    .dataframe tbody tr th:only-of-type {\n",
       "        vertical-align: middle;\n",
       "    }\n",
       "\n",
       "    .dataframe tbody tr th {\n",
       "        vertical-align: top;\n",
       "    }\n",
       "\n",
       "    .dataframe thead th {\n",
       "        text-align: right;\n",
       "    }\n",
       "</style>\n",
       "<table border=\"1\" class=\"dataframe\">\n",
       "  <thead>\n",
       "    <tr style=\"text-align: right;\">\n",
       "      <th></th>\n",
       "      <th>desplazamiento</th>\n",
       "      <th>cilindros</th>\n",
       "      <th>consumo</th>\n",
       "      <th>co2</th>\n",
       "    </tr>\n",
       "  </thead>\n",
       "  <tbody>\n",
       "    <tr>\n",
       "      <th>0</th>\n",
       "      <td>2.5</td>\n",
       "      <td>4.0</td>\n",
       "      <td>17</td>\n",
       "      <td>522.764706</td>\n",
       "    </tr>\n",
       "    <tr>\n",
       "      <th>1</th>\n",
       "      <td>4.2</td>\n",
       "      <td>6.0</td>\n",
       "      <td>13</td>\n",
       "      <td>683.615385</td>\n",
       "    </tr>\n",
       "    <tr>\n",
       "      <th>2</th>\n",
       "      <td>2.5</td>\n",
       "      <td>4.0</td>\n",
       "      <td>16</td>\n",
       "      <td>555.437500</td>\n",
       "    </tr>\n",
       "    <tr>\n",
       "      <th>3</th>\n",
       "      <td>4.2</td>\n",
       "      <td>6.0</td>\n",
       "      <td>13</td>\n",
       "      <td>683.615385</td>\n",
       "    </tr>\n",
       "    <tr>\n",
       "      <th>4</th>\n",
       "      <td>3.8</td>\n",
       "      <td>6.0</td>\n",
       "      <td>16</td>\n",
       "      <td>555.437500</td>\n",
       "    </tr>\n",
       "  </tbody>\n",
       "</table>\n",
       "</div>"
      ],
      "text/plain": [
       "   desplazamiento  cilindros  consumo         co2\n",
       "0             2.5        4.0       17  522.764706\n",
       "1             4.2        6.0       13  683.615385\n",
       "2             2.5        4.0       16  555.437500\n",
       "3             4.2        6.0       13  683.615385\n",
       "4             3.8        6.0       16  555.437500"
      ]
     },
     "execution_count": 25,
     "metadata": {},
     "output_type": "execute_result"
    }
   ],
   "source": [
    "dataset.head()"
   ]
  },
  {
   "cell_type": "code",
   "execution_count": 26,
   "id": "b7b7b6ae",
   "metadata": {},
   "outputs": [
    {
     "data": {
      "text/html": [
       "<div>\n",
       "<style scoped>\n",
       "    .dataframe tbody tr th:only-of-type {\n",
       "        vertical-align: middle;\n",
       "    }\n",
       "\n",
       "    .dataframe tbody tr th {\n",
       "        vertical-align: top;\n",
       "    }\n",
       "\n",
       "    .dataframe thead th {\n",
       "        text-align: right;\n",
       "    }\n",
       "</style>\n",
       "<table border=\"1\" class=\"dataframe\">\n",
       "  <thead>\n",
       "    <tr style=\"text-align: right;\">\n",
       "      <th></th>\n",
       "      <th>desplazamiento</th>\n",
       "      <th>cilindros</th>\n",
       "      <th>consumo</th>\n",
       "      <th>co2</th>\n",
       "    </tr>\n",
       "  </thead>\n",
       "  <tbody>\n",
       "    <tr>\n",
       "      <th>desplazamiento</th>\n",
       "      <td>1.000000</td>\n",
       "      <td>0.904993</td>\n",
       "      <td>-0.761534</td>\n",
       "      <td>0.799911</td>\n",
       "    </tr>\n",
       "    <tr>\n",
       "      <th>cilindros</th>\n",
       "      <td>0.904993</td>\n",
       "      <td>1.000000</td>\n",
       "      <td>-0.717313</td>\n",
       "      <td>0.750958</td>\n",
       "    </tr>\n",
       "    <tr>\n",
       "      <th>consumo</th>\n",
       "      <td>-0.761534</td>\n",
       "      <td>-0.717313</td>\n",
       "      <td>1.000000</td>\n",
       "      <td>-0.958927</td>\n",
       "    </tr>\n",
       "    <tr>\n",
       "      <th>co2</th>\n",
       "      <td>0.799911</td>\n",
       "      <td>0.750958</td>\n",
       "      <td>-0.958927</td>\n",
       "      <td>1.000000</td>\n",
       "    </tr>\n",
       "  </tbody>\n",
       "</table>\n",
       "</div>"
      ],
      "text/plain": [
       "                desplazamiento  cilindros   consumo       co2\n",
       "desplazamiento        1.000000   0.904993 -0.761534  0.799911\n",
       "cilindros             0.904993   1.000000 -0.717313  0.750958\n",
       "consumo              -0.761534  -0.717313  1.000000 -0.958927\n",
       "co2                   0.799911   0.750958 -0.958927  1.000000"
      ]
     },
     "execution_count": 26,
     "metadata": {},
     "output_type": "execute_result"
    }
   ],
   "source": [
    "# Matriz de correlación\n",
    "dataset.corr()"
   ]
  },
  {
   "cell_type": "code",
   "execution_count": 27,
   "id": "8bfc5cb2",
   "metadata": {},
   "outputs": [],
   "source": [
    "#Leer vehiculo_procesado.cvs (utilice usecols=[\"consumo\", \"co2\", \"cilindros\",\"desplazamiento\"])\n",
    "#Hacer una predicción que cantidad de co2 se produce en los vehículos pesados a partir de un modelo regresión lineal multiple\n",
    "\n",
    "#Revise la correlación entre estas variables.\n",
    "#Divida el dataset en dos conjuntos uno de entrenamiento y otro de prueba utilizando de la librería sklearn.model_selection importe train_test_split con un 20% de datos para prueba.\n",
    "#Encuentre el modelo con los datos de entrenamiento y realice la predicción con los datos de prueba.\n",
    "#Realice una validación cruzada con cv=10, muestre los score, utilice como métrica a R2\n",
    "\n",
    "#Muestre el promedio de score\n",
    "#•Encuentre el R2\n",
    "#•Dibuje una dispersión de los datos co2 actual vs co2 predicción\n"
   ]
  },
  {
   "cell_type": "code",
   "execution_count": 28,
   "id": "50147d25",
   "metadata": {},
   "outputs": [],
   "source": [
    "y_m = dataset['co2']\n",
    "X_m = dataset.drop(['co2'], axis = 1)"
   ]
  },
  {
   "cell_type": "code",
   "execution_count": 29,
   "id": "a89935b1",
   "metadata": {},
   "outputs": [],
   "source": [
    "from sklearn.model_selection import train_test_split\n",
    "X_train, X_test, y_train, y_test = train_test_split(X_m, y_m, test_size = 0.2, random_state =0)"
   ]
  },
  {
   "cell_type": "code",
   "execution_count": 30,
   "id": "f9adfd7d",
   "metadata": {},
   "outputs": [
    {
     "data": {
      "text/plain": [
       "LinearRegression()"
      ]
     },
     "execution_count": 30,
     "metadata": {},
     "output_type": "execute_result"
    }
   ],
   "source": [
    "# Entreno el modelo\n",
    "lr.fit(X_train, y_train)"
   ]
  },
  {
   "cell_type": "code",
   "execution_count": 39,
   "id": "c6dcd127",
   "metadata": {},
   "outputs": [
    {
     "name": "stdout",
     "output_type": "stream",
     "text": [
      "[390.85312634 492.60630479 451.77027667 ... 410.93424855 583.81573251\n",
      " 410.93424855]\n",
      "22129    386.391304\n",
      "21173    467.736842\n",
      "4264     423.190476\n",
      "19056    555.437500\n",
      "21250    592.466667\n",
      "            ...    \n",
      "20781    423.190476\n",
      "29633    555.437500\n",
      "17183    388.000000\n",
      "4110     571.000000\n",
      "23234    382.000000\n",
      "Name: co2, Length: 7108, dtype: float64\n"
     ]
    }
   ],
   "source": [
    "# Predecir\n",
    "y_pred_mult = lr.predict(X_test)\n",
    "print(y_pred_mult)\n",
    "print(y_test)"
   ]
  },
  {
   "cell_type": "code",
   "execution_count": 40,
   "id": "82fd7dff",
   "metadata": {},
   "outputs": [
    {
     "name": "stdout",
     "output_type": "stream",
     "text": [
      "[ 11.61678037   1.32797583 -19.83717504]\n"
     ]
    }
   ],
   "source": [
    "#  Valor de las pendientes o coeficientes \"a\":\n",
    "print(lr.coef_)"
   ]
  },
  {
   "cell_type": "code",
   "execution_count": 41,
   "id": "f6347d79",
   "metadata": {},
   "outputs": [
    {
     "name": "stdout",
     "output_type": "stream",
     "text": [
      "818.5626882368499\n"
     ]
    }
   ],
   "source": [
    "# Valor de la intersección o coeficiente \"b\":\n",
    "print(lr.intercept_)"
   ]
  },
  {
   "cell_type": "code",
   "execution_count": 42,
   "id": "2d3cc0f5",
   "metadata": {},
   "outputs": [
    {
     "name": "stdout",
     "output_type": "stream",
     "text": [
      "0.930585633466453\n"
     ]
    }
   ],
   "source": [
    "# Precisión del algoritmo\n",
    "print(lr.score(X_train, y_train))"
   ]
  },
  {
   "cell_type": "code",
   "execution_count": 43,
   "id": "2df65fc6",
   "metadata": {},
   "outputs": [
    {
     "data": {
      "text/plain": [
       "array([0.92348975, 0.92100359, 0.9166913 , 0.92329927, 0.93469489,\n",
       "       0.92607562, 0.92043394, 0.93057615, 0.92440553, 0.90480354])"
      ]
     },
     "execution_count": 43,
     "metadata": {},
     "output_type": "execute_result"
    }
   ],
   "source": [
    "# Usando Validación Cruzada\n",
    "scores = cross_val_score(lr, X_m, y_m, cv=10, scoring=\"r2\")\n",
    "scores"
   ]
  },
  {
   "cell_type": "code",
   "execution_count": 44,
   "id": "c986faa3",
   "metadata": {},
   "outputs": [
    {
     "data": {
      "text/plain": [
       "0.9225473584236819"
      ]
     },
     "execution_count": 44,
     "metadata": {},
     "output_type": "execute_result"
    }
   ],
   "source": [
    "# Promedio de los score\n",
    "scores.mean()"
   ]
  },
  {
   "cell_type": "code",
   "execution_count": 45,
   "id": "db4e0e68",
   "metadata": {},
   "outputs": [
    {
     "name": "stdout",
     "output_type": "stream",
     "text": [
      "{'fit_time': array([0.02200603, 0.02100682, 0.02300715]), 'score_time': array([0.00700235, 0.00700235, 0.00800061]), 'test_score': array([0.91687806, 0.93129939, 0.91733407])}\n"
     ]
    }
   ],
   "source": [
    "cv_results = cross_validate(lr, X_m, y_m, cv=3, scoring=\"r2\")\n",
    "print(cv_results)"
   ]
  },
  {
   "cell_type": "code",
   "execution_count": 46,
   "id": "b1c06d5e",
   "metadata": {},
   "outputs": [
    {
     "name": "stdout",
     "output_type": "stream",
     "text": [
      "[0.91687806 0.93129939 0.91733407]\n"
     ]
    }
   ],
   "source": [
    "sorted(cv_results.keys())\n",
    "print(cv_results['test_score'])"
   ]
  },
  {
   "cell_type": "code",
   "execution_count": 47,
   "id": "35eaf64c",
   "metadata": {},
   "outputs": [
    {
     "data": {
      "image/png": "[encoded data removed]",
      "text/plain": [
       "<Figure size 432x288 with 1 Axes>"
      ]
     },
     "metadata": {
      "needs_background": "light"
     },
     "output_type": "display_data"
    }
   ],
   "source": [
    "predicted = cross_val_predict(lr, X_m, y_m, cv=10)\n",
    "\n",
    "fig, ax = plt.subplots()\n",
    "ax.scatter(y_m, predicted, edgecolors=(0, 0, 0))\n",
    "ax.plot([y_m.min(), y_m.max()], [y_m.min(), y_m.max()], 'r--', linewidth=4)\n",
    "ax.set_xlabel('Measured')\n",
    "ax.set_ylabel('Predicted')\n",
    "plt.show()"
   ]
  },
  {
   "cell_type": "code",
   "execution_count": null,
   "id": "feea955f",
   "metadata": {},
   "outputs": [],
   "source": []
  }
 ],
 "metadata": {
  "kernelspec": {
   "display_name": "Python 3",
   "language": "python",
   "name": "python3"
  },
  "language_info": {
   "codemirror_mode": {
    "name": "ipython",
    "version": 3
   },
   "file_extension": ".py",
   "mimetype": "text/x-python",
   "name": "python",
   "nbconvert_exporter": "python",
   "pygments_lexer": "ipython3",
   "version": "3.8.8"
  }
 },
 "nbformat": 4,
 "nbformat_minor": 5
}
