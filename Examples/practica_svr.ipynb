{
 "cells": [
  {
   "cell_type": "code",
   "execution_count": null,
   "id": "fd44e7dc",
   "metadata": {},
   "outputs": [],
   "source": [
    "# Importacion la librerias a utilizar\n",
    "import numpy as np\n",
    "import matplotlib.pyplot as plt\n",
    "from sklearn import datasets"
   ]
  },
  {
   "cell_type": "code",
   "execution_count": null,
   "id": "39b258c5",
   "metadata": {},
   "outputs": [],
   "source": [
    "# Preparación de la data\n",
    "boston = datasets.load_boston()\n",
    "print(boston)\n",
    "print()"
   ]
  },
  {
   "cell_type": "code",
   "execution_count": null,
   "id": "c21a51dc",
   "metadata": {},
   "outputs": [],
   "source": [
    "# Entendimiento de la data\n",
    "print('Información de el dataset')\n",
    "print(boston.keys())\n",
    "print()"
   ]
  },
  {
   "cell_type": "code",
   "execution_count": null,
   "id": "93dd4fbc",
   "metadata": {},
   "outputs": [],
   "source": [
    "# Verificar las caracteristicas del dataset\n",
    "print('Cantidad de datos')\n",
    "print(boston.data.shape)\n",
    "print()"
   ]
  },
  {
   "cell_type": "code",
   "execution_count": null,
   "id": "8ba950cd",
   "metadata": {},
   "outputs": [],
   "source": [
    "# Verificar la información de las columnas\n",
    "print('Nombres columnas')\n",
    "print(boston.feature_names)"
   ]
  },
  {
   "cell_type": "code",
   "execution_count": null,
   "id": "1bdfe30a",
   "metadata": {},
   "outputs": [],
   "source": [
    "# Preparar la data vectores de soportes de regresión\n",
    "# Seleccionamos solamente la columna 6 del dataset\n",
    "X_svr = boston.data[:, np.newaxis, 5]\n",
    "\n",
    "# Definir los datos correspondientes a las etiquetas\n",
    "y_svr = boston.target"
   ]
  },
  {
   "cell_type": "code",
   "execution_count": null,
   "id": "74c92cca",
   "metadata": {},
   "outputs": [],
   "source": [
    "# Graficamos los datos correspondiente\n",
    "plt.scatter(X_svr, y_svr)\n",
    "plt.show()"
   ]
  },
  {
   "cell_type": "code",
   "execution_count": null,
   "id": "2cf37db6",
   "metadata": {},
   "outputs": [],
   "source": [
    "# Implementación de vectorres de soporte regresión\n",
    "from sklearn.model_selection import train_test_split\n",
    "\n",
    "#Separo los datos de \"train \" en entrenamiento y prueba para probar algoritmos\n",
    "X_train, X_test, y_train, y_test = train_test_split(X_svr, y_svr, test_size=0.2)"
   ]
  },
  {
   "cell_type": "code",
   "execution_count": null,
   "id": "adacf8ae",
   "metadata": {},
   "outputs": [],
   "source": [
    "from sklearn.svm import SVR\n",
    "\n",
    "#Defino  el algoritmo a utilizar\n",
    "svr = SVR(kernel='linear', C=1.0, epsilon=0.2)"
   ]
  },
  {
   "cell_type": "code",
   "execution_count": null,
   "id": "abebd0aa",
   "metadata": {},
   "outputs": [],
   "source": [
    "# Entreno el modelo\n",
    "svr.fit(X_train, y_train)\n"
   ]
  },
  {
   "cell_type": "code",
   "execution_count": null,
   "id": "5491d25c",
   "metadata": {},
   "outputs": [],
   "source": [
    "Y_pred = svr.predict(X_test)"
   ]
  },
  {
   "cell_type": "code",
   "execution_count": null,
   "id": "0c4edbe2",
   "metadata": {},
   "outputs": [],
   "source": [
    "# Graficamos los datos con el modelo\n",
    "plt.scatter(X_test, y_test)\n",
    "plt.plot(X_test, Y_pred, color = 'red', linewidth=3)\n",
    "plt.show()"
   ]
  },
  {
   "cell_type": "code",
   "execution_count": null,
   "id": "f122efd2",
   "metadata": {},
   "outputs": [],
   "source": [
    "print()\n",
    "print('Datos del modelo vectores de soporte de regresión')\n",
    "print()\n",
    "print('Precisión del modelo:')\n",
    "print(svr.score(X_train, y_train))"
   ]
  },
  {
   "cell_type": "code",
   "execution_count": null,
   "id": "f82cebb0",
   "metadata": {},
   "outputs": [],
   "source": []
  }
 ],
 "metadata": {
  "kernelspec": {
   "display_name": "Python 3",
   "language": "python",
   "name": "python3"
  },
  "language_info": {
   "codemirror_mode": {
    "name": "ipython",
    "version": 3
   },
   "file_extension": ".py",
   "mimetype": "text/x-python",
   "name": "python",
   "nbconvert_exporter": "python",
   "pygments_lexer": "ipython3",
   "version": "3.8.8"
  }
 },
 "nbformat": 4,
 "nbformat_minor": 5
}
