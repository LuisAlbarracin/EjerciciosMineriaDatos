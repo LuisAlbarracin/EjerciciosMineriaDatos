{
 "cells": [
  {
   "cell_type": "code",
   "execution_count": null,
   "id": "4c06237a",
   "metadata": {},
   "outputs": [],
   "source": [
    "# Importación de librerias\n",
    "import numpy as np\n",
    "import matplotlib.pyplot as plt\n",
    "from sklearn import datasets"
   ]
  },
  {
   "cell_type": "code",
   "execution_count": null,
   "id": "371cb958",
   "metadata": {},
   "outputs": [],
   "source": [
    "# Importar el dataset\n",
    "boston = datasets.load_boston()\n",
    "print(boston)\n",
    "print()"
   ]
  },
  {
   "cell_type": "code",
   "execution_count": null,
   "id": "a4e29b25",
   "metadata": {},
   "outputs": [],
   "source": [
    "# Verificar información del dataset\n",
    "print('Información del dataset:')\n",
    "print(boston.keys())\n",
    "print()"
   ]
  },
  {
   "cell_type": "code",
   "execution_count": null,
   "id": "69316e57",
   "metadata": {},
   "outputs": [],
   "source": [
    "# Verificar las caracteristicas del dataset\n",
    "print('Características del dataset')\n",
    "print(boston.DESCR)"
   ]
  },
  {
   "cell_type": "code",
   "execution_count": null,
   "id": "d47d1a3b",
   "metadata": {},
   "outputs": [],
   "source": [
    "# Verificar la cantidad de datos que hay en los dataset\n",
    "print('Cantidad de datos:')\n",
    "print(boston.data.shape)\n",
    "print()"
   ]
  },
  {
   "cell_type": "code",
   "execution_count": null,
   "id": "86626efa",
   "metadata": {},
   "outputs": [],
   "source": [
    "# Verificar la información de las columnas\n",
    "print('Nombres columnas:')\n",
    "print(boston.feature_names)"
   ]
  },
  {
   "cell_type": "code",
   "execution_count": null,
   "id": "8315ea1d",
   "metadata": {},
   "outputs": [],
   "source": [
    "# Preparar la data\n",
    "X_adr = boston.data[:, np.newaxis, 5]\n",
    "\n",
    "y_adr = boston.target"
   ]
  },
  {
   "cell_type": "code",
   "execution_count": null,
   "id": "0af79145",
   "metadata": {},
   "outputs": [],
   "source": [
    "# Graficamos los datos\n",
    "plt.scatter(X_adr, y_adr)\n",
    "plt.show()"
   ]
  },
  {
   "cell_type": "code",
   "execution_count": null,
   "id": "1b52371f",
   "metadata": {},
   "outputs": [],
   "source": [
    "from sklearn.model_selection import train_test_split\n",
    "\n",
    "# Separar datos de entrenamiento y pruebas\n",
    "X_train, X_test, y_train, y_test = train_test_split(X_adr, y_adr, test_size=0.2)"
   ]
  },
  {
   "cell_type": "code",
   "execution_count": null,
   "id": "1f255992",
   "metadata": {},
   "outputs": [],
   "source": [
    "from sklearn.tree import DecisionTreeRegressor\n",
    "\n",
    "adr = DecisionTreeRegressor(max_depth=5)"
   ]
  },
  {
   "cell_type": "code",
   "execution_count": null,
   "id": "94a72e0b",
   "metadata": {},
   "outputs": [],
   "source": [
    "# Entrenar\n",
    "adr.fit(X_train, y_train)"
   ]
  },
  {
   "cell_type": "code",
   "execution_count": null,
   "id": "e320cce2",
   "metadata": {},
   "outputs": [],
   "source": [
    "# Predecir\n",
    "Y_pred = adr.predict(X_test)"
   ]
  },
  {
   "cell_type": "code",
   "execution_count": null,
   "id": "7bb70836",
   "metadata": {},
   "outputs": [],
   "source": [
    "# Graficamos\n",
    "X_grid = np.arange(min(X_test), max(X_test), 0.1)\n",
    "X_grid = X_grid.reshape((len(X_grid), 1))\n",
    "plt.scatter(X_test, y_test)\n",
    "plt.plot(X_grid, adr.predict(X_grid), color='red', linewidth=3)\n",
    "plt.show()"
   ]
  },
  {
   "cell_type": "code",
   "execution_count": null,
   "id": "a417d9ea",
   "metadata": {},
   "outputs": [],
   "source": [
    "# Precision\n",
    "print('Datos del modelo')\n",
    "print()\n",
    "\n",
    "print('Precisión del modelo:')\n",
    "print(adr.score(X_train, y_train))"
   ]
  },
  {
   "cell_type": "code",
   "execution_count": null,
   "id": "6b811c9d",
   "metadata": {},
   "outputs": [],
   "source": []
  }
 ],
 "metadata": {
  "kernelspec": {
   "display_name": "Python 3",
   "language": "python",
   "name": "python3"
  },
  "language_info": {
   "codemirror_mode": {
    "name": "ipython",
    "version": 3
   },
   "file_extension": ".py",
   "mimetype": "text/x-python",
   "name": "python",
   "nbconvert_exporter": "python",
   "pygments_lexer": "ipython3",
   "version": "3.8.8"
  }
 },
 "nbformat": 4,
 "nbformat_minor": 5
}
