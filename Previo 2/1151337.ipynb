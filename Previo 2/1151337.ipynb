{
 "cells": [
  {
   "cell_type": "code",
   "execution_count": null,
   "id": "b8aca54b",
   "metadata": {},
   "outputs": [],
   "source": [
    "import numpy as np\n",
    "import matplotlib.pyplot as plt\n",
    "import pandas as pd"
   ]
  },
  {
   "cell_type": "code",
   "execution_count": null,
   "id": "9ddf118d",
   "metadata": {},
   "outputs": [],
   "source": [
    "# Leer el archivo airbnb.csv\n",
    "\n",
    "data = pd.read_csv(\"airbnb.csv\", usecols=[\"room_type\", \"reviews\", \"overall_satisfaction\", \"accommodates\",\"bedrooms\", \"price\"])\n"
   ]
  },
  {
   "cell_type": "code",
   "execution_count": null,
   "id": "d59774bf",
   "metadata": {},
   "outputs": [],
   "source": [
    "# Revisar dataframe\n",
    "\n",
    "data.head()\n"
   ]
  },
  {
   "cell_type": "code",
   "execution_count": null,
   "id": "6b6dba81",
   "metadata": {},
   "outputs": [],
   "source": [
    "data.info()\n",
    "data.describe()"
   ]
  },
  {
   "cell_type": "markdown",
   "id": "2aa890c9",
   "metadata": {},
   "source": [
    "#### El dataframe no tiene nulos"
   ]
  },
  {
   "cell_type": "code",
   "execution_count": null,
   "id": "0b67b9e4",
   "metadata": {},
   "outputs": [],
   "source": [
    "# Funcion Dummies\n",
    "def createDummies(df, var_name):\n",
    "    dummy = pd.get_dummies(df[var_name], prefix=var_name, drop_first=True)\n",
    "    df = df.drop(var_name, axis =1)\n",
    "    df = pd.concat([df, dummy], axis = 1)\n",
    "    return df"
   ]
  },
  {
   "cell_type": "code",
   "execution_count": null,
   "id": "67b38503",
   "metadata": {},
   "outputs": [],
   "source": [
    "data = createDummies(data, \"room_type\")"
   ]
  },
  {
   "cell_type": "code",
   "execution_count": null,
   "id": "d1dc9eff",
   "metadata": {},
   "outputs": [],
   "source": [
    "data = data.reset_index()"
   ]
  },
  {
   "cell_type": "code",
   "execution_count": null,
   "id": "8c899468",
   "metadata": {},
   "outputs": [],
   "source": [
    "# Separando datos para estandarizar\n",
    "datos = data[[\"reviews\", \"overall_satisfaction\", \"accommodates\", \"bedrooms\", \"price\"]]\n",
    "data.drop(columns = [\"reviews\", \"overall_satisfaction\", \"accommodates\", \"bedrooms\", \"price\"], axis = 1, inplace=True )\n"
   ]
  },
  {
   "cell_type": "code",
   "execution_count": null,
   "id": "34f1bd0d",
   "metadata": {},
   "outputs": [],
   "source": [
    "\n",
    "# Estandarizando\n",
    "from sklearn.preprocessing import StandardScaler\n",
    "#from sklearn.preprocessing import MinMaxScaler\n",
    "#transM = MinMaxScaler()\n",
    "#datos = transM.fit_transform(datos)\n",
    "trans = StandardScaler()\n",
    "datos = trans.fit_transform(datos)\n"
   ]
  },
  {
   "cell_type": "code",
   "execution_count": null,
   "id": "f27ee1b2",
   "metadata": {},
   "outputs": [],
   "source": [
    "\n",
    "# Agrupar y concatenar\n",
    "datos = pd.DataFrame(datos, columns=[\"reviews\", \"overall_satisfaction\", \"accommodates\", \"bedrooms\", \"price\"])\n",
    "data = pd.concat([data, datos], axis = 1)\n",
    "data\n"
   ]
  },
  {
   "cell_type": "markdown",
   "id": "1648c535",
   "metadata": {},
   "source": [
    "## Separar datos de prueba y de test"
   ]
  },
  {
   "cell_type": "code",
   "execution_count": null,
   "id": "7533fd97",
   "metadata": {},
   "outputs": [],
   "source": [
    "y = data.loc[:, \"price\"]\n",
    "X = data.drop(columns=\"price\")"
   ]
  },
  {
   "cell_type": "code",
   "execution_count": null,
   "id": "721d46ec",
   "metadata": {},
   "outputs": [],
   "source": [
    "y"
   ]
  },
  {
   "cell_type": "code",
   "execution_count": null,
   "id": "cdb367c5",
   "metadata": {},
   "outputs": [],
   "source": [
    "X"
   ]
  },
  {
   "cell_type": "code",
   "execution_count": null,
   "id": "7ea05bbb",
   "metadata": {},
   "outputs": [],
   "source": [
    "from sklearn.model_selection import train_test_split\n",
    "X_train, X_test, y_train, y_test = train_test_split(X, y, test_size=0.2, random_state =0)"
   ]
  },
  {
   "cell_type": "code",
   "execution_count": null,
   "id": "a780b4e6",
   "metadata": {},
   "outputs": [],
   "source": [
    "# Importar R2\n",
    "from sklearn.metrics import r2_score"
   ]
  },
  {
   "cell_type": "code",
   "execution_count": null,
   "id": "27b6e80d",
   "metadata": {},
   "outputs": [],
   "source": [
    "# Errores \n",
    "np.isnan(X)\n",
    "np.where(np.isnan(X))\n",
    "np.nan_to_num(X)"
   ]
  },
  {
   "cell_type": "markdown",
   "id": "01f720bc",
   "metadata": {},
   "source": [
    "### Regresión Lineal Multiple"
   ]
  },
  {
   "cell_type": "code",
   "execution_count": null,
   "id": "47cb25e3",
   "metadata": {},
   "outputs": [],
   "source": [
    "from sklearn.linear_model import LinearRegression\n",
    "lrm = LinearRegression()"
   ]
  },
  {
   "cell_type": "code",
   "execution_count": null,
   "id": "e46053d9",
   "metadata": {},
   "outputs": [],
   "source": [
    "# Entrenar el modelo Lineal Multiple\n",
    "lrm.fit(X_train, y_train)"
   ]
  },
  {
   "cell_type": "code",
   "execution_count": null,
   "id": "90a4dc30",
   "metadata": {},
   "outputs": [],
   "source": [
    "# Predecir el modelo Lineal Multiple\n",
    "y_pred_lrm = lrm.predict(X_test)"
   ]
  },
  {
   "cell_type": "code",
   "execution_count": null,
   "id": "ed877e40",
   "metadata": {},
   "outputs": [],
   "source": [
    "# Coef e Intercept\n",
    "print(lrm.coef_)\n",
    "print(lrm.intercept_)\n"
   ]
  },
  {
   "cell_type": "code",
   "execution_count": null,
   "id": "d2ff192a",
   "metadata": {},
   "outputs": [],
   "source": [
    "print(\"El R2 con El modelo de Regresión Lineal Multiple es: \", lrm.score(X_train, y_train))"
   ]
  },
  {
   "cell_type": "code",
   "execution_count": null,
   "id": "091849c6",
   "metadata": {},
   "outputs": [],
   "source": [
    "# R2 de el model de regresión Lineal Multiple\n",
    "print(\"El R2 con El modelo de Regresión Lineal Multiple es: \", r2_score(y_test, y_pred_lrm))"
   ]
  },
  {
   "cell_type": "markdown",
   "id": "c9c54f3c",
   "metadata": {},
   "source": [
    "### SVR"
   ]
  },
  {
   "cell_type": "code",
   "execution_count": null,
   "id": "08768b1c",
   "metadata": {},
   "outputs": [],
   "source": [
    "from sklearn.svm import SVR\n",
    "vec_dec = SVR(kernel = \"rbf\")\n",
    "# Entrenar el modelo\n",
    "vec_dec.fit(X_train, y_train)"
   ]
  },
  {
   "cell_type": "code",
   "execution_count": null,
   "id": "8d98a809",
   "metadata": {},
   "outputs": [],
   "source": [
    "# Predecir\n",
    "y_pred_svr = regression.predict(X_test)"
   ]
  },
  {
   "cell_type": "code",
   "execution_count": null,
   "id": "b3a7dbc1",
   "metadata": {},
   "outputs": [],
   "source": [
    "# Precisión\n",
    "print(\"El R2 con El modelo SVR es: \", vec_dec.score(X_train, y_train))"
   ]
  },
  {
   "cell_type": "code",
   "execution_count": null,
   "id": "e98c3f7c",
   "metadata": {},
   "outputs": [],
   "source": [
    "# R2\n",
    "print(\"El R2 con El modelo SVR es: \", r2_score(y_test, y_pred_svr))"
   ]
  },
  {
   "cell_type": "markdown",
   "id": "d89b9fe1",
   "metadata": {},
   "source": [
    "### Arboles"
   ]
  },
  {
   "cell_type": "code",
   "execution_count": null,
   "id": "2a6191b5",
   "metadata": {},
   "outputs": [],
   "source": [
    "from sklearn.tree import DecisionTreeRegressor\n",
    "tree_m = DecisionTreeRegressor(random_state = 0)\n",
    "\n",
    "# Entrenar el modelo\n",
    "tree_m.fit(X_train, y_train)"
   ]
  },
  {
   "cell_type": "code",
   "execution_count": null,
   "id": "99d5a5f4",
   "metadata": {},
   "outputs": [],
   "source": [
    "# Predecir el modelo\n",
    "y_pred_tree = tree_m.predict(X_test)"
   ]
  },
  {
   "cell_type": "code",
   "execution_count": null,
   "id": "517577a6",
   "metadata": {},
   "outputs": [],
   "source": [
    "# Precisión del modelo\n",
    "print(\"El R2 con El modelo de Arboles es: \",tree_m.score(X_train, y_train))"
   ]
  },
  {
   "cell_type": "code",
   "execution_count": null,
   "id": "a4ac89e7",
   "metadata": {},
   "outputs": [],
   "source": [
    "# R2 \n",
    "print(\"El R2 con El modelo de Arboles es: \", r2_score(y_test, y_pred_tree))"
   ]
  },
  {
   "cell_type": "markdown",
   "id": "0d50eff5",
   "metadata": {},
   "source": [
    "### Random Forest"
   ]
  },
  {
   "cell_type": "code",
   "execution_count": null,
   "id": "14d5add2",
   "metadata": {},
   "outputs": [],
   "source": [
    "from sklearn.ensemble import RandomForestRegressor\n",
    "model_random = RandomForestRegressor(n_estimators = 100, random_state =0)\n",
    "# Entrenar el modelo\n",
    "model_random.fit(X_train, y_train)"
   ]
  },
  {
   "cell_type": "code",
   "execution_count": null,
   "id": "34fa7eeb",
   "metadata": {},
   "outputs": [],
   "source": [
    "# Predecir\n",
    "y_pred_random = model_random.predict(X_test)"
   ]
  },
  {
   "cell_type": "code",
   "execution_count": null,
   "id": "d40ef5ac",
   "metadata": {},
   "outputs": [],
   "source": [
    "# Precisición\n",
    "print(\"El R2 con El modelo de Random Forest es: \", model_random.score(X_train, y_train))"
   ]
  },
  {
   "cell_type": "code",
   "execution_count": null,
   "id": "2c3c23a0",
   "metadata": {},
   "outputs": [],
   "source": [
    "print(\"El R2 con El modelo de Random Forest es: \", r2_score(y_test, y_pred_tree))"
   ]
  },
  {
   "cell_type": "markdown",
   "id": "e1557e5d",
   "metadata": {},
   "source": [
    "### Aplicando Validacion Cruzada"
   ]
  },
  {
   "cell_type": "code",
   "execution_count": null,
   "id": "ad851fc5",
   "metadata": {},
   "outputs": [],
   "source": [
    "# Ingrese aqui el modelo de mejor R2\n",
    "# modelo = "
   ]
  },
  {
   "cell_type": "code",
   "execution_count": null,
   "id": "66166a2d",
   "metadata": {},
   "outputs": [],
   "source": [
    "from sklearn.model_selection import cross_val_predict, cross_val_score, cross_validate\n",
    "scores=cross_val_score(modelo, X, y, cv=10, scoring=\"r2\")\n",
    "scores\n"
   ]
  },
  {
   "cell_type": "code",
   "execution_count": null,
   "id": "ca0642b7",
   "metadata": {},
   "outputs": [],
   "source": [
    "# R2 Con validación Cruzada\n",
    "print(\"El R2 con Validación Cruzada es: \", scores.mean())"
   ]
  },
  {
   "cell_type": "code",
   "execution_count": null,
   "id": "a2022bd9",
   "metadata": {},
   "outputs": [],
   "source": [
    "cv_results = cross_validate(modelo, X, y, cv=3, scoring=\"r2\")\n",
    "print(cv_results)"
   ]
  },
  {
   "cell_type": "code",
   "execution_count": null,
   "id": "3bfab9df",
   "metadata": {},
   "outputs": [],
   "source": [
    "sorted(cv_results.keys())\n",
    "print(cv_results['test_score'])"
   ]
  },
  {
   "cell_type": "code",
   "execution_count": null,
   "id": "4358906f",
   "metadata": {},
   "outputs": [],
   "source": [
    "predicted = cross_val_predict(modelo, X, y, cv=10)\n"
   ]
  },
  {
   "cell_type": "markdown",
   "id": "175e572a",
   "metadata": {},
   "source": [
    "### Conclusión"
   ]
  },
  {
   "cell_type": "code",
   "execution_count": null,
   "id": "7a07960e",
   "metadata": {},
   "outputs": [],
   "source": [
    "print(\"El modelo con mejor R2 es: \")"
   ]
  }
 ],
 "metadata": {
  "kernelspec": {
   "display_name": "Python 3",
   "language": "python",
   "name": "python3"
  },
  "language_info": {
   "codemirror_mode": {
    "name": "ipython",
    "version": 3
   },
   "file_extension": ".py",
   "mimetype": "text/x-python",
   "name": "python",
   "nbconvert_exporter": "python",
   "pygments_lexer": "ipython3",
   "version": "3.8.8"
  }
 },
 "nbformat": 4,
 "nbformat_minor": 5
}
