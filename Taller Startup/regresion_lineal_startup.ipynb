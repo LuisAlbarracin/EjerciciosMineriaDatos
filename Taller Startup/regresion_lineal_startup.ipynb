{
 "cells": [
  {
   "cell_type": "code",
   "execution_count": null,
   "id": "7b93e689",
   "metadata": {},
   "outputs": [],
   "source": [
    "# Importación de librerias\n",
    "import numpy as np\n",
    "from sklearn import datasets, linear_model\n",
    "import matplotlib.pyplot as plt\n",
    "import pandas as pd"
   ]
  },
  {
   "cell_type": "code",
   "execution_count": null,
   "id": "fb0b5b43",
   "metadata": {},
   "outputs": [],
   "source": [
    "dataset = pd.read_csv('50_Startups.csv')"
   ]
  },
  {
   "cell_type": "code",
   "execution_count": null,
   "id": "0e0b5164",
   "metadata": {},
   "outputs": [],
   "source": [
    "dataset.info()"
   ]
  },
  {
   "cell_type": "code",
   "execution_count": null,
   "id": "94312981",
   "metadata": {},
   "outputs": [],
   "source": [
    "dataset.head()"
   ]
  },
  {
   "cell_type": "code",
   "execution_count": null,
   "id": "234921fe",
   "metadata": {},
   "outputs": [],
   "source": [
    "def createDummies(df, var_name):\n",
    "    dummy = pd.get_dummies(df[var_name], prefix=var_name, drop_first=True)\n",
    "    df = df.drop(var_name, axis = 1)\n",
    "    df = pd.concat([df, dummy], axis = 1)\n",
    "    return df"
   ]
  },
  {
   "cell_type": "code",
   "execution_count": null,
   "id": "bb163cb5",
   "metadata": {},
   "outputs": [],
   "source": [
    "dataset = createDummies(dataset, \"State\")"
   ]
  },
  {
   "cell_type": "code",
   "execution_count": null,
   "id": "f64f0524",
   "metadata": {},
   "outputs": [],
   "source": [
    "profit = dataset['Profit']"
   ]
  },
  {
   "cell_type": "code",
   "execution_count": null,
   "id": "c41d7f06",
   "metadata": {},
   "outputs": [],
   "source": [
    "datos = dataset.drop(['Profit'], axis = 1)\n",
    "datos.head()"
   ]
  },
  {
   "cell_type": "code",
   "execution_count": null,
   "id": "7f3ef923",
   "metadata": {},
   "outputs": [],
   "source": [
    "datos.head()\n"
   ]
  },
  {
   "cell_type": "code",
   "execution_count": null,
   "id": "8e1d6ce9",
   "metadata": {},
   "outputs": [],
   "source": [
    "X_m = datos\n",
    "y_m = profit\n",
    "print(X_m)\n",
    "print(y_m)"
   ]
  },
  {
   "cell_type": "code",
   "execution_count": null,
   "id": "759d8c2b",
   "metadata": {},
   "outputs": [],
   "source": [
    "from sklearn.model_selection import train_test_split\n",
    "X_train, X_test, y_train, y_test = train_test_split(X_m, y_m, test_size = 0.2, random_state = 0)"
   ]
  },
  {
   "cell_type": "code",
   "execution_count": null,
   "id": "188bde1e",
   "metadata": {},
   "outputs": [],
   "source": [
    "from sklearn.linear_model import LinearRegression\n",
    "lrm = LinearRegression()"
   ]
  },
  {
   "cell_type": "code",
   "execution_count": null,
   "id": "8a1df558",
   "metadata": {},
   "outputs": [],
   "source": [
    "lrm.fit(X_train, y_train)"
   ]
  },
  {
   "cell_type": "code",
   "execution_count": null,
   "id": "ce0f6ddb",
   "metadata": {},
   "outputs": [],
   "source": [
    "y_pred = lrm.predict(X_test)"
   ]
  },
  {
   "cell_type": "markdown",
   "id": "a36cc99c",
   "metadata": {},
   "source": [
    "# Se hace la predicción para  [182107.35,91391.74,366168.42,Florida]"
   ]
  },
  {
   "cell_type": "code",
   "execution_count": null,
   "id": "07f16a58",
   "metadata": {},
   "outputs": [],
   "source": [
    "# Hacer la prediccion\n",
    "pred = lrm.predict([ [182107.35,91391.74,366168.42,1, 0]])\n",
    "pred"
   ]
  },
  {
   "cell_type": "code",
   "execution_count": null,
   "id": "b6f601a6",
   "metadata": {},
   "outputs": [],
   "source": [
    "lrm.coef_"
   ]
  },
  {
   "cell_type": "code",
   "execution_count": null,
   "id": "06961020",
   "metadata": {},
   "outputs": [],
   "source": [
    "lrm.intercept_"
   ]
  },
  {
   "cell_type": "code",
   "execution_count": null,
   "id": "ae86cbd5",
   "metadata": {},
   "outputs": [],
   "source": [
    "lrm.score(X_test, y_test)"
   ]
  },
  {
   "cell_type": "code",
   "execution_count": null,
   "id": "04d72f40",
   "metadata": {},
   "outputs": [],
   "source": [
    "from sklearn.metrics import r2_score\n",
    "r2_score(y_test, y_pred)"
   ]
  }
 ],
 "metadata": {
  "kernelspec": {
   "display_name": "Python 3",
   "language": "python",
   "name": "python3"
  },
  "language_info": {
   "codemirror_mode": {
    "name": "ipython",
    "version": 3
   },
   "file_extension": ".py",
   "mimetype": "text/x-python",
   "name": "python",
   "nbconvert_exporter": "python",
   "pygments_lexer": "ipython3",
   "version": "3.8.8"
  }
 },
 "nbformat": 4,
 "nbformat_minor": 5
}
