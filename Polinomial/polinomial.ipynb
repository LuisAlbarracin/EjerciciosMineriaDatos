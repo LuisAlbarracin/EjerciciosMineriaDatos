
<!-- saved from url=(0095)https://uvirtual.cloud.ufps.edu.co/pluginfile.php/34313/mod_resource/content/2/polinomial.ipynb -->
<html><head><meta http-equiv="Content-Type" content="text/html; charset=UTF-8"></head><body>{
 "cells": [
  {
   "cell_type": "code",
   "execution_count": 1,
   "metadata": {},
   "outputs": [],
   "source": [
    "# Regresión polinómica\n",
    "\n",
    "# Cómo importar las librerías\n",
    "import numpy as np\n",
    "import matplotlib.pyplot as plt\n",
    "import pandas as pd"
   ]
  },
  {
   "cell_type": "code",
   "execution_count": 2,
   "metadata": {},
   "outputs": [
    {
     "data": {
      "text/html": [
       "<div>\n",
       "<style scoped="">\n",
       "    .dataframe tbody tr th:only-of-type {\n",
       "        vertical-align: middle;\n",
       "    }\n",
       "\n",
       "    .dataframe tbody tr th {\n",
       "        vertical-align: top;\n",
       "    }\n",
       "\n",
       "    .dataframe thead th {\n",
       "        text-align: right;\n",
       "    }\n",
       "</style>\n",
       "\n",
       "  \n",
       "    \n",
       "      \n",
       "      \n",
       "      \n",
       "      \n",
       "    \n",
       "  \n",
       "  \n",
       "    \n",
       "      \n",
       "      \n",
       "      \n",
       "      \n",
       "    \n",
       "    \n",
       "      \n",
       "      \n",
       "      \n",
       "      \n",
       "    \n",
       "    \n",
       "      \n",
       "      \n",
       "      \n",
       "      \n",
       "    \n",
       "    \n",
       "      \n",
       "      \n",
       "      \n",
       "      \n",
       "    \n",
       "    \n",
       "      \n",
       "      \n",
       "      \n",
       "      \n",
       "    \n",
       "    \n",
       "      \n",
       "      \n",
       "      \n",
       "      \n",
       "    \n",
       "    \n",
       "      \n",
       "      \n",
       "      \n",
       "      \n",
       "    \n",
       "    \n",
       "      \n",
       "      \n",
       "      \n",
       "      \n",
       "    \n",
       "    \n",
       "      \n",
       "      \n",
       "      \n",
       "      \n",
       "    \n",
       "    \n",
       "      \n",
       "      \n",
       "      \n",
       "      \n",
       "    \n",
       "  \n",
       "<table border="\&quot;1\&quot;" class="\&quot;dataframe\&quot;"><thead><tr style="\&quot;text-align:" right;\"=""><th></th><th>Position</th><th>Level</th><th>Salary</th></tr></thead><tbody><tr><td>0</td><td>Business Analyst</td><td>1</td><td>45000</td></tr><tr><td>1</td><td>Junior Consultant</td><td>2</td><td>50000</td></tr><tr><td>2</td><td>Senior Consultant</td><td>3</td><td>60000</td></tr><tr><td>3</td><td>Manager</td><td>4</td><td>80000</td></tr><tr><td>4</td><td>Country Manager</td><td>5</td><td>110000</td></tr><tr><td>5</td><td>Region Manager</td><td>6</td><td>150000</td></tr><tr><td>6</td><td>Partner</td><td>7</td><td>200000</td></tr><tr><td>7</td><td>Senior Partner</td><td>8</td><td>300000</td></tr><tr><td>8</td><td>C-level</td><td>9</td><td>500000</td></tr><tr><td>9</td><td>CEO</td><td>10</td><td>1000000</td></tr></tbody></table>\n",
       "</div>"
      ],
      "text/plain": [
       "            Position  Level   Salary\n",
       "0   Business Analyst      1    45000\n",
       "1  Junior Consultant      2    50000\n",
       "2  Senior Consultant      3    60000\n",
       "3            Manager      4    80000\n",
       "4    Country Manager      5   110000\n",
       "5     Region Manager      6   150000\n",
       "6            Partner      7   200000\n",
       "7     Senior Partner      8   300000\n",
       "8            C-level      9   500000\n",
       "9                CEO     10  1000000"
      ]
     },
     "execution_count": 2,
     "metadata": {},
     "output_type": "execute_result"
    }
   ],
   "source": [
    "# Importar el data set\n",
    "dataset = pd.read_csv('Position_Salaries.csv')\n",
    "dataset"
   ]
  },
  {
   "cell_type": "code",
   "execution_count": 24,
   "metadata": {},
   "outputs": [],
   "source": [
    "\n",
    "X = dataset.iloc[:, 1:2].values\n",
    "y = dataset.iloc[:, 2].values\n"
   ]
  },
  {
   "cell_type": "code",
   "execution_count": 23,
   "metadata": {},
   "outputs": [
    {
     "data": {
      "text/plain": [
       "Level    int64\n",
       "dtype: object"
      ]
     },
     "execution_count": 23,
     "metadata": {},
     "output_type": "execute_result"
    }
   ],
   "source": [
    "X.dtypes"
   ]
  },
  {
   "cell_type": "code",
   "execution_count": 6,
   "metadata": {},
   "outputs": [
    {
     "data": {
      "text/plain": [
       "0      45000\n",
       "1      50000\n",
       "2      60000\n",
       "3      80000\n",
       "4     110000\n",
       "5     150000\n",
       "6     200000\n",
       "7     300000\n",
       "8     500000\n",
       "9    1000000\n",
       "Name: Salary, dtype: int64"
      ]
     },
     "execution_count": 6,
     "metadata": {},
     "output_type": "execute_result"
    }
   ],
   "source": [
    "y"
   ]
  },
  {
   "cell_type": "code",
   "execution_count": 3,
   "metadata": {},
   "outputs": [
    {
     "data": {
      "text/plain": [
       "'\\nfrom sklearn.model_selection import train_test_split\\nX_train, X_test, y_train, y_test = train_test_split(X, y, test_size = 0.2, random_state = 0)\\n'"
      ]
     },
     "execution_count": 3,
     "metadata": {},
     "output_type": "execute_result"
    }
   ],
   "source": [
    "\n",
    "# Dividir el data set en conjunto de entrenamiento y conjunto de testing\n",
    "\"\"\"\n",
    "from sklearn.model_selection import train_test_split\n",
    "X_train, X_test, y_train, y_test = train_test_split(X, y, test_size = 0.2, random_state = 0)\n",
    "\"\"\""
   ]
  },
  {
   "cell_type": "code",
   "execution_count": null,
   "metadata": {},
   "outputs": [],
   "source": []
  },
  {
   "cell_type": "code",
   "execution_count": 32,
   "metadata": {},
   "outputs": [],
   "source": [
    "# Ajustar la regresión lineal con el dataset\n",
    "from sklearn.linear_model import LinearRegression\n",
    "lin_reg = LinearRegression()\n",
    "lin_reg.fit(X, y)\n",
    "y_pred_lineal = lin_reg.predict(X)\n"
   ]
  },
  {
   "cell_type": "code",
   "execution_count": 35,
   "metadata": {},
   "outputs": [
    {
     "data": {
      "text/plain": [
       "array([[1.000e+00, 1.000e+00, 1.000e+00, 1.000e+00, 1.000e+00],\n",
       "       [1.000e+00, 2.000e+00, 4.000e+00, 8.000e+00, 1.600e+01],\n",
       "       [1.000e+00, 3.000e+00, 9.000e+00, 2.700e+01, 8.100e+01],\n",
       "       [1.000e+00, 4.000e+00, 1.600e+01, 6.400e+01, 2.560e+02],\n",
       "       [1.000e+00, 5.000e+00, 2.500e+01, 1.250e+02, 6.250e+02],\n",
       "       [1.000e+00, 6.000e+00, 3.600e+01, 2.160e+02, 1.296e+03],\n",
       "       [1.000e+00, 7.000e+00, 4.900e+01, 3.430e+02, 2.401e+03],\n",
       "       [1.000e+00, 8.000e+00, 6.400e+01, 5.120e+02, 4.096e+03],\n",
       "       [1.000e+00, 9.000e+00, 8.100e+01, 7.290e+02, 6.561e+03],\n",
       "       [1.000e+00, 1.000e+01, 1.000e+02, 1.000e+03, 1.000e+04]])"
      ]
     },
     "execution_count": 35,
     "metadata": {},
     "output_type": "execute_result"
    }
   ],
   "source": [
    "# Ajustar la regresión polinómica con el dataset\n",
    "from sklearn.preprocessing import PolynomialFeatures\n",
    "poly_reg = PolynomialFeatures(degree = 4)\n",
    "X_poly = poly_reg.fit_transform(X)\n",
    "X_poly\n"
   ]
  },
  {
   "cell_type": "code",
   "execution_count": 31,
   "metadata": {},
   "outputs": [],
   "source": [
    "lin_reg_2 = LinearRegression()\n",
    "lin_reg_2.fit(X_poly, y)\n",
    "y_pred_poly= lin_reg_2.predict(X_poly)"
   ]
  },
  {
   "cell_type": "code",
   "execution_count": 28,
   "metadata": {},
   "outputs": [
    {
     "data": {
      "image/png": "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\n",
      "text/plain": [
       "<figure size="" 432x288="" with="" 1="" axes="">"
      ]
     },
     "metadata": {
      "needs_background": "light"
     },
     "output_type": "display_data"
    }
   ],
   "source": [
    "# Visualización de los resultados del Modelo Lineal\n",
    "plt.scatter(X, y, color = \"red\")\n",
    "plt.plot(X, lin_reg.predict(X), color = \"blue\")\n",
    "plt.title(\"Modelo de Regresión Lineal\")\n",
    "plt.xlabel(\"Posición del empleado\")\n",
    "plt.ylabel(\"Sueldo (en $)\")\n",
    "plt.show()\n"
   ]
  },
  {
   "cell_type": "code",
   "execution_count": 29,
   "metadata": {},
   "outputs": [
    {
     "data": {
      "image/png": "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\n",
      "text/plain": [
       "<figure size="" 432x288="" with="" 1="" axes="">"
      ]
     },
     "metadata": {
      "needs_background": "light"
     },
     "output_type": "display_data"
    }
   ],
   "source": [
    "# Visualización de los resultados del Modelo Polinómico\n",
    "X_grid = np.arange(min(X), max(X), 0.1)\n",
    "X_grid = X_grid.reshape(len(X_grid), 1)\n",
    "plt.scatter(X, y, color = \"red\")\n",
    "plt.plot(X_grid, lin_reg_2.predict(poly_reg.fit_transform(X_grid)), color = \"blue\")\n",
    "plt.title(\"Modelo de Regresión Polinómica\")\n",
    "plt.xlabel(\"Posición del empleado\")\n",
    "plt.ylabel(\"Sueldo (en $)\")\n",
    "plt.show()\n"
   ]
  },
  {
   "cell_type": "code",
   "execution_count": null,
   "metadata": {},
   "outputs": [],
   "source": []
  },
  {
   "cell_type": "code",
   "execution_count": 12,
   "metadata": {},
   "outputs": [
    {
     "data": {
      "text/plain": [
       "array([330378.78787879])"
      ]
     },
     "execution_count": 12,
     "metadata": {},
     "output_type": "execute_result"
    }
   ],
   "source": [
    "# Predicción de nuestros modelos\n",
    "lin_reg.predict([[6.5]])\n"
   ]
  },
  {
   "cell_type": "code",
   "execution_count": 13,
   "metadata": {},
   "outputs": [
    {
     "data": {
      "text/plain": [
       "array([158862.45265153])"
      ]
     },
     "execution_count": 13,
     "metadata": {},
     "output_type": "execute_result"
    }
   ],
   "source": [
    "lin_reg_2.predict(poly_reg.fit_transform([[6.5]]))"
   ]
  },
  {
   "cell_type": "code",
   "execution_count": 33,
   "metadata": {},
   "outputs": [],
   "source": [
    "from sklearn.metrics import r2_score"
   ]
  },
  {
   "cell_type": "code",
   "execution_count": 33,
   "metadata": {},
   "outputs": [
    {
     "data": {
      "text/plain": [
       "0.6690412331929895"
      ]
     },
     "execution_count": 33,
     "metadata": {},
     "output_type": "execute_result"
    }
   ],
   "source": [
    "r2_score(y,y_pred_lineal)"
   ]
  },
  {
   "cell_type": "code",
   "execution_count": 34,
   "metadata": {},
   "outputs": [
    {
     "data": {
      "text/plain": [
       "0.9973922891706614"
      ]
     },
     "execution_count": 34,
     "metadata": {},
     "output_type": "execute_result"
    }
   ],
   "source": [
    "r2_score(y,y_pred_poly)"
   ]
  },
  {
   "cell_type": "code",
   "execution_count": null,
   "metadata": {},
   "outputs": [],
   "source": []
  }
 ],
 "metadata": {
  "kernelspec": {
   "display_name": "Python 3",
   "language": "python",
   "name": "python3"
  },
  "language_info": {
   "codemirror_mode": {
    "name": "ipython",
    "version": 3
   },
   "file_extension": ".py",
   "mimetype": "text/x-python",
   "name": "python",
   "nbconvert_exporter": "python",
   "pygments_lexer": "ipython3",
   "version": "3.7.4"
  }
 },
 "nbformat": 4,
 "nbformat_minor": 4
}
</figure></figure></body></html>