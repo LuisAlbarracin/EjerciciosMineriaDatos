
<!-- saved from url=(0097)https://uvirtual.cloud.ufps.edu.co/pluginfile.php/52524/mod_resource/content/1/ejercicio%20.ipynb -->
<html><head><meta http-equiv="Content-Type" content="text/html; charset=UTF-8"></head><body>{
 "cells": [
  {
   "cell_type": "markdown",
   "id": "0186f816",
   "metadata": {},
   "source": [
    "# Carga de libererias"
   ]
  },
  {
   "cell_type": "code",
   "execution_count": 1,
   "id": "a7545a45",
   "metadata": {},
   "outputs": [],
   "source": [
    "import pandas as pd\n",
    "import numpy as np\n",
    "import matplotlib.pyplot as plt"
   ]
  },
  {
   "cell_type": "markdown",
   "id": "2801b56e",
   "metadata": {},
   "source": [
    "# cargar el dataset"
   ]
  },
  {
   "cell_type": "code",
   "execution_count": 5,
   "id": "3eb91c98",
   "metadata": {},
   "outputs": [
    {
     "data": {
      "text/html": [
       "<div>\n",
       "<style scoped="">\n",
       "    .dataframe tbody tr th:only-of-type {\n",
       "        vertical-align: middle;\n",
       "    }\n",
       "\n",
       "    .dataframe tbody tr th {\n",
       "        vertical-align: top;\n",
       "    }\n",
       "\n",
       "    .dataframe thead th {\n",
       "        text-align: right;\n",
       "    }\n",
       "</style>\n",
       "\n",
       "  \n",
       "    \n",
       "      \n",
       "      \n",
       "      \n",
       "      \n",
       "      \n",
       "    \n",
       "  \n",
       "  \n",
       "    \n",
       "      \n",
       "      \n",
       "      \n",
       "      \n",
       "      \n",
       "    \n",
       "    \n",
       "      \n",
       "      \n",
       "      \n",
       "      \n",
       "      \n",
       "    \n",
       "    \n",
       "      \n",
       "      \n",
       "      \n",
       "      \n",
       "      \n",
       "    \n",
       "    \n",
       "      \n",
       "      \n",
       "      \n",
       "      \n",
       "      \n",
       "    \n",
       "    \n",
       "      \n",
       "      \n",
       "      \n",
       "      \n",
       "      \n",
       "    \n",
       "    \n",
       "      \n",
       "      \n",
       "      \n",
       "      \n",
       "      \n",
       "    \n",
       "    \n",
       "      \n",
       "      \n",
       "      \n",
       "      \n",
       "      \n",
       "    \n",
       "    \n",
       "      \n",
       "      \n",
       "      \n",
       "      \n",
       "      \n",
       "    \n",
       "    \n",
       "      \n",
       "      \n",
       "      \n",
       "      \n",
       "      \n",
       "    \n",
       "    \n",
       "      \n",
       "      \n",
       "      \n",
       "      \n",
       "      \n",
       "    \n",
       "  \n",
       "<table border="\&quot;1\&quot;" class="\&quot;dataframe\&quot;"><thead><tr style="\&quot;text-align:" right;\"=""><th></th><th>Country</th><th>Age</th><th>Salary</th><th>Purchased</th></tr></thead><tbody><tr><th>0</th><td>France</td><td>44.0</td><td>72000.0</td><td>No</td></tr><tr><th>1</th><td>Spain</td><td>27.0</td><td>48000.0</td><td>Yes</td></tr><tr><th>2</th><td>Germany</td><td>30.0</td><td>54000.0</td><td>No</td></tr><tr><th>3</th><td>Spain</td><td>38.0</td><td>61000.0</td><td>No</td></tr><tr><th>4</th><td>Germany</td><td>40.0</td><td>NaN</td><td>Yes</td></tr><tr><th>5</th><td>France</td><td>35.0</td><td>58000.0</td><td>Yes</td></tr><tr><th>6</th><td>Spain</td><td>NaN</td><td>52000.0</td><td>No</td></tr><tr><th>7</th><td>France</td><td>48.0</td><td>79000.0</td><td>Yes</td></tr><tr><th>8</th><td>Germany</td><td>50.0</td><td>83000.0</td><td>No</td></tr><tr><th>9</th><td>France</td><td>37.0</td><td>67000.0</td><td>Yes</td></tr></tbody></table>\n",
       "</div>"
      ],
      "text/plain": [
       "   Country   Age   Salary Purchased\n",
       "0   France  44.0  72000.0        No\n",
       "1    Spain  27.0  48000.0       Yes\n",
       "2  Germany  30.0  54000.0        No\n",
       "3    Spain  38.0  61000.0        No\n",
       "4  Germany  40.0      NaN       Yes\n",
       "5   France  35.0  58000.0       Yes\n",
       "6    Spain   NaN  52000.0        No\n",
       "7   France  48.0  79000.0       Yes\n",
       "8  Germany  50.0  83000.0        No\n",
       "9   France  37.0  67000.0       Yes"
      ]
     },
     "execution_count": 5,
     "metadata": {},
     "output_type": "execute_result"
    }
   ],
   "source": [
    "df = pd.read_csv(\"data.csv\")\n",
    "df"
   ]
  },
  {
   "cell_type": "code",
   "execution_count": 4,
   "id": "a53748bf",
   "metadata": {},
   "outputs": [
    {
     "name": "stdout",
     "output_type": "stream",
     "text": [
      "<class 'pandas.core.frame.dataframe'="">\n",
      "RangeIndex: 10 entries, 0 to 9\n",
      "Data columns (total 4 columns):\n",
      " #   Column     Non-Null Count  Dtype  \n",
      "---  ------     --------------  -----  \n",
      " 0   Country    10 non-null     object \n",
      " 1   Age        9 non-null      float64\n",
      " 2   Salary     9 non-null      float64\n",
      " 3   Purchased  10 non-null     object \n",
      "dtypes: float64(2), object(2)\n",
      "memory usage: 448.0+ bytes\n"
     ]
    }
   ],
   "source": [
    "df.info()"
   ]
  },
  {
   "cell_type": "code",
   "execution_count": 6,
   "id": "cdb48ae9",
   "metadata": {},
   "outputs": [
    {
     "data": {
      "text/plain": [
       "France     4\n",
       "Germany    3\n",
       "Spain      3\n",
       "Name: Country, dtype: int64"
      ]
     },
     "execution_count": 6,
     "metadata": {},
     "output_type": "execute_result"
    }
   ],
   "source": [
    "df.Country.value_counts()"
   ]
  },
  {
   "cell_type": "code",
   "execution_count": 7,
   "id": "564c239c",
   "metadata": {},
   "outputs": [
    {
     "data": {
      "text/plain": [
       "Yes    5\n",
       "No     5\n",
       "Name: Purchased, dtype: int64"
      ]
     },
     "execution_count": 7,
     "metadata": {},
     "output_type": "execute_result"
    }
   ],
   "source": [
    "df[\"Purchased\"].value_counts()"
   ]
  },
  {
   "cell_type": "code",
   "execution_count": 10,
   "id": "6f42d5fd",
   "metadata": {},
   "outputs": [
    {
     "data": {
      "text/plain": [
       "1"
      ]
     },
     "execution_count": 10,
     "metadata": {},
     "output_type": "execute_result"
    }
   ],
   "source": [
    "df.Age.isnull().sum()"
   ]
  },
  {
   "cell_type": "code",
   "execution_count": 11,
   "id": "8ac38d09",
   "metadata": {},
   "outputs": [
    {
     "data": {
      "text/plain": [
       "1"
      ]
     },
     "execution_count": 11,
     "metadata": {},
     "output_type": "execute_result"
    }
   ],
   "source": [
    "df[\"Salary\"].isna().sum()"
   ]
  },
  {
   "cell_type": "code",
   "execution_count": 17,
   "id": "8b2bd72b",
   "metadata": {},
   "outputs": [],
   "source": [
    "df.Age.fillna(df.Age.mean(),inplace=True)"
   ]
  },
  {
   "cell_type": "code",
   "execution_count": 18,
   "id": "b0ee6f49",
   "metadata": {},
   "outputs": [
    {
     "data": {
      "text/plain": [
       "0    44.000000\n",
       "1    27.000000\n",
       "2    30.000000\n",
       "3    38.000000\n",
       "4    40.000000\n",
       "5    35.000000\n",
       "6    38.777778\n",
       "7    48.000000\n",
       "8    50.000000\n",
       "9    37.000000\n",
       "Name: Age, dtype: float64"
      ]
     },
     "execution_count": 18,
     "metadata": {},
     "output_type": "execute_result"
    }
   ],
   "source": [
    "df.Age"
   ]
  },
  {
   "cell_type": "code",
   "execution_count": 20,
   "id": "cd092f1b",
   "metadata": {},
   "outputs": [],
   "source": [
    "df.Salary = df.Salary.fillna(method=\"ffill\")"
   ]
  },
  {
   "cell_type": "code",
   "execution_count": 21,
   "id": "8900753c",
   "metadata": {},
   "outputs": [
    {
     "data": {
      "text/plain": [
       "0    72000.0\n",
       "1    48000.0\n",
       "2    54000.0\n",
       "3    61000.0\n",
       "4    61000.0\n",
       "5    58000.0\n",
       "6    52000.0\n",
       "7    79000.0\n",
       "8    83000.0\n",
       "9    67000.0\n",
       "Name: Salary, dtype: float64"
      ]
     },
     "execution_count": 21,
     "metadata": {},
     "output_type": "execute_result"
    }
   ],
   "source": [
    "df.Salary"
   ]
  },
  {
   "cell_type": "code",
   "execution_count": 22,
   "id": "87ff65c6",
   "metadata": {},
   "outputs": [
    {
     "name": "stdout",
     "output_type": "stream",
     "text": [
      "<class 'pandas.core.frame.dataframe'="">\n",
      "RangeIndex: 10 entries, 0 to 9\n",
      "Data columns (total 4 columns):\n",
      " #   Column     Non-Null Count  Dtype  \n",
      "---  ------     --------------  -----  \n",
      " 0   Country    10 non-null     object \n",
      " 1   Age        10 non-null     float64\n",
      " 2   Salary     10 non-null     float64\n",
      " 3   Purchased  10 non-null     object \n",
      "dtypes: float64(2), object(2)\n",
      "memory usage: 448.0+ bytes\n"
     ]
    }
   ],
   "source": [
    "df.info()"
   ]
  },
  {
   "cell_type": "code",
   "execution_count": 23,
   "id": "1f7cf1bf",
   "metadata": {},
   "outputs": [],
   "source": [
    "y = df.Purchased"
   ]
  },
  {
   "cell_type": "code",
   "execution_count": 24,
   "id": "658cb4b9",
   "metadata": {},
   "outputs": [
    {
     "data": {
      "text/plain": [
       "0     No\n",
       "1    Yes\n",
       "2     No\n",
       "3     No\n",
       "4    Yes\n",
       "5    Yes\n",
       "6     No\n",
       "7    Yes\n",
       "8     No\n",
       "9    Yes\n",
       "Name: Purchased, dtype: object"
      ]
     },
     "execution_count": 24,
     "metadata": {},
     "output_type": "execute_result"
    }
   ],
   "source": [
    "y"
   ]
  },
  {
   "cell_type": "code",
   "execution_count": 25,
   "id": "6c8db2a8",
   "metadata": {},
   "outputs": [
    {
     "data": {
      "text/html": [
       "<div>\n",
       "<style scoped="">\n",
       "    .dataframe tbody tr th:only-of-type {\n",
       "        vertical-align: middle;\n",
       "    }\n",
       "\n",
       "    .dataframe tbody tr th {\n",
       "        vertical-align: top;\n",
       "    }\n",
       "\n",
       "    .dataframe thead th {\n",
       "        text-align: right;\n",
       "    }\n",
       "</style>\n",
       "\n",
       "  \n",
       "    \n",
       "      \n",
       "      \n",
       "      \n",
       "      \n",
       "      \n",
       "    \n",
       "  \n",
       "  \n",
       "    \n",
       "      \n",
       "      \n",
       "      \n",
       "      \n",
       "      \n",
       "    \n",
       "    \n",
       "      \n",
       "      \n",
       "      \n",
       "      \n",
       "      \n",
       "    \n",
       "    \n",
       "      \n",
       "      \n",
       "      \n",
       "      \n",
       "      \n",
       "    \n",
       "    \n",
       "      \n",
       "      \n",
       "      \n",
       "      \n",
       "      \n",
       "    \n",
       "    \n",
       "      \n",
       "      \n",
       "      \n",
       "      \n",
       "      \n",
       "    \n",
       "    \n",
       "      \n",
       "      \n",
       "      \n",
       "      \n",
       "      \n",
       "    \n",
       "    \n",
       "      \n",
       "      \n",
       "      \n",
       "      \n",
       "      \n",
       "    \n",
       "    \n",
       "      \n",
       "      \n",
       "      \n",
       "      \n",
       "      \n",
       "    \n",
       "    \n",
       "      \n",
       "      \n",
       "      \n",
       "      \n",
       "      \n",
       "    \n",
       "    \n",
       "      \n",
       "      \n",
       "      \n",
       "      \n",
       "      \n",
       "    \n",
       "  \n",
       "<table border="\&quot;1\&quot;" class="\&quot;dataframe\&quot;"><thead><tr style="\&quot;text-align:" right;\"=""><th></th><th>Country</th><th>Age</th><th>Salary</th><th>Purchased</th></tr></thead><tbody><tr><th>0</th><td>France</td><td>44.000000</td><td>72000.0</td><td>No</td></tr><tr><th>1</th><td>Spain</td><td>27.000000</td><td>48000.0</td><td>Yes</td></tr><tr><th>2</th><td>Germany</td><td>30.000000</td><td>54000.0</td><td>No</td></tr><tr><th>3</th><td>Spain</td><td>38.000000</td><td>61000.0</td><td>No</td></tr><tr><th>4</th><td>Germany</td><td>40.000000</td><td>61000.0</td><td>Yes</td></tr><tr><th>5</th><td>France</td><td>35.000000</td><td>58000.0</td><td>Yes</td></tr><tr><th>6</th><td>Spain</td><td>38.777778</td><td>52000.0</td><td>No</td></tr><tr><th>7</th><td>France</td><td>48.000000</td><td>79000.0</td><td>Yes</td></tr><tr><th>8</th><td>Germany</td><td>50.000000</td><td>83000.0</td><td>No</td></tr><tr><th>9</th><td>France</td><td>37.000000</td><td>67000.0</td><td>Yes</td></tr></tbody></table>\n",
       "</div>"
      ],
      "text/plain": [
       "   Country        Age   Salary Purchased\n",
       "0   France  44.000000  72000.0        No\n",
       "1    Spain  27.000000  48000.0       Yes\n",
       "2  Germany  30.000000  54000.0        No\n",
       "3    Spain  38.000000  61000.0        No\n",
       "4  Germany  40.000000  61000.0       Yes\n",
       "5   France  35.000000  58000.0       Yes\n",
       "6    Spain  38.777778  52000.0        No\n",
       "7   France  48.000000  79000.0       Yes\n",
       "8  Germany  50.000000  83000.0        No\n",
       "9   France  37.000000  67000.0       Yes"
      ]
     },
     "execution_count": 25,
     "metadata": {},
     "output_type": "execute_result"
    }
   ],
   "source": [
    "df"
   ]
  },
  {
   "cell_type": "code",
   "execution_count": 27,
   "id": "12f3d20d",
   "metadata": {},
   "outputs": [],
   "source": [
    "df.drop(columns=\"Purchased\",inplace=True)"
   ]
  },
  {
   "cell_type": "code",
   "execution_count": 28,
   "id": "f9b67358",
   "metadata": {},
   "outputs": [
    {
     "data": {
      "text/html": [
       "<div>\n",
       "<style scoped="">\n",
       "    .dataframe tbody tr th:only-of-type {\n",
       "        vertical-align: middle;\n",
       "    }\n",
       "\n",
       "    .dataframe tbody tr th {\n",
       "        vertical-align: top;\n",
       "    }\n",
       "\n",
       "    .dataframe thead th {\n",
       "        text-align: right;\n",
       "    }\n",
       "</style>\n",
       "\n",
       "  \n",
       "    \n",
       "      \n",
       "      \n",
       "      \n",
       "      \n",
       "    \n",
       "  \n",
       "  \n",
       "    \n",
       "      \n",
       "      \n",
       "      \n",
       "      \n",
       "    \n",
       "    \n",
       "      \n",
       "      \n",
       "      \n",
       "      \n",
       "    \n",
       "    \n",
       "      \n",
       "      \n",
       "      \n",
       "      \n",
       "    \n",
       "    \n",
       "      \n",
       "      \n",
       "      \n",
       "      \n",
       "    \n",
       "    \n",
       "      \n",
       "      \n",
       "      \n",
       "      \n",
       "    \n",
       "    \n",
       "      \n",
       "      \n",
       "      \n",
       "      \n",
       "    \n",
       "    \n",
       "      \n",
       "      \n",
       "      \n",
       "      \n",
       "    \n",
       "    \n",
       "      \n",
       "      \n",
       "      \n",
       "      \n",
       "    \n",
       "    \n",
       "      \n",
       "      \n",
       "      \n",
       "      \n",
       "    \n",
       "    \n",
       "      \n",
       "      \n",
       "      \n",
       "      \n",
       "    \n",
       "  \n",
       "<table border="\&quot;1\&quot;" class="\&quot;dataframe\&quot;"><thead><tr style="\&quot;text-align:" right;\"=""><th></th><th>Country</th><th>Age</th><th>Salary</th></tr></thead><tbody><tr><th>0</th><td>France</td><td>44.000000</td><td>72000.0</td></tr><tr><th>1</th><td>Spain</td><td>27.000000</td><td>48000.0</td></tr><tr><th>2</th><td>Germany</td><td>30.000000</td><td>54000.0</td></tr><tr><th>3</th><td>Spain</td><td>38.000000</td><td>61000.0</td></tr><tr><th>4</th><td>Germany</td><td>40.000000</td><td>61000.0</td></tr><tr><th>5</th><td>France</td><td>35.000000</td><td>58000.0</td></tr><tr><th>6</th><td>Spain</td><td>38.777778</td><td>52000.0</td></tr><tr><th>7</th><td>France</td><td>48.000000</td><td>79000.0</td></tr><tr><th>8</th><td>Germany</td><td>50.000000</td><td>83000.0</td></tr><tr><th>9</th><td>France</td><td>37.000000</td><td>67000.0</td></tr></tbody></table>\n",
       "</div>"
      ],
      "text/plain": [
       "   Country        Age   Salary\n",
       "0   France  44.000000  72000.0\n",
       "1    Spain  27.000000  48000.0\n",
       "2  Germany  30.000000  54000.0\n",
       "3    Spain  38.000000  61000.0\n",
       "4  Germany  40.000000  61000.0\n",
       "5   France  35.000000  58000.0\n",
       "6    Spain  38.777778  52000.0\n",
       "7   France  48.000000  79000.0\n",
       "8  Germany  50.000000  83000.0\n",
       "9   France  37.000000  67000.0"
      ]
     },
     "execution_count": 28,
     "metadata": {},
     "output_type": "execute_result"
    }
   ],
   "source": [
    "df"
   ]
  },
  {
   "cell_type": "code",
   "execution_count": 29,
   "id": "d68aba93",
   "metadata": {},
   "outputs": [
    {
     "data": {
      "text/html": [
       "<div>\n",
       "<style scoped="">\n",
       "    .dataframe tbody tr th:only-of-type {\n",
       "        vertical-align: middle;\n",
       "    }\n",
       "\n",
       "    .dataframe tbody tr th {\n",
       "        vertical-align: top;\n",
       "    }\n",
       "\n",
       "    .dataframe thead th {\n",
       "        text-align: right;\n",
       "    }\n",
       "</style>\n",
       "\n",
       "  \n",
       "    \n",
       "      \n",
       "      \n",
       "      \n",
       "    \n",
       "  \n",
       "  \n",
       "    \n",
       "      \n",
       "      \n",
       "      \n",
       "    \n",
       "    \n",
       "      \n",
       "      \n",
       "      \n",
       "    \n",
       "  \n",
       "<table border="\&quot;1\&quot;" class="\&quot;dataframe\&quot;"><thead><tr style="\&quot;text-align:" right;\"=""><th></th><th>Age</th><th>Salary</th></tr></thead><tbody><tr><th>Age</th><td>1.000000</td><td>0.905472</td></tr><tr><th>Salary</th><td>0.905472</td><td>1.000000</td></tr></tbody></table>\n",
       "</div>"
      ],
      "text/plain": [
       "             Age    Salary\n",
       "Age     1.000000  0.905472\n",
       "Salary  0.905472  1.000000"
      ]
     },
     "execution_count": 29,
     "metadata": {},
     "output_type": "execute_result"
    }
   ],
   "source": [
    "df.corr()"
   ]
  },
  {
   "cell_type": "code",
   "execution_count": 30,
   "id": "55785acc",
   "metadata": {},
   "outputs": [],
   "source": [
    "correlacion= df.corr()"
   ]
  },
  {
   "cell_type": "code",
   "execution_count": 31,
   "id": "76342bf8",
   "metadata": {},
   "outputs": [],
   "source": [
    "import seaborn as sns"
   ]
  },
  {
   "cell_type": "code",
   "execution_count": 32,
   "id": "bb622581",
   "metadata": {},
   "outputs": [
    {
     "data": {
      "text/plain": [
       "<axessubplot:>"
      ]
     },
     "execution_count": 32,
     "metadata": {},
     "output_type": "execute_result"
    },
    {
     "data": {
      "image/png": "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\n",
      "text/plain": [
       "<figure size="" 432x288="" with="" 2="" axes="">"
      ]
     },
     "metadata": {
      "needs_background": "light"
     },
     "output_type": "display_data"
    }
   ],
   "source": [
    "sns.heatmap(correlacion)"
   ]
  },
  {
   "cell_type": "code",
   "execution_count": 33,
   "id": "ed935a5a",
   "metadata": {},
   "outputs": [
    {
     "data": {
      "text/plain": [
       "array([[<axessubplot:title={'center':'age'}>,\n",
       "        <axessubplot:title={'center':'salary'}>]], dtype=object)"
      ]
     },
     "execution_count": 33,
     "metadata": {},
     "output_type": "execute_result"
    },
    {
     "data": {
      "image/png": "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\n",
      "text/plain": [
       "<figure size="" 432x288="" with="" 2="" axes="">"
      ]
     },
     "metadata": {
      "needs_background": "light"
     },
     "output_type": "display_data"
    }
   ],
   "source": [
    "df.hist()"
   ]
  },
  {
   "cell_type": "code",
   "execution_count": 40,
   "id": "7e09025b",
   "metadata": {},
   "outputs": [],
   "source": [
    "def createDummies(df, var_name):\n",
    "    dummy = pd.get_dummies(df[var_name], prefix=var_name,drop_first=True)\n",
    "    df = df.drop(var_name, axis = 1)\n",
    "    df = pd.concat([df, dummy ], axis = 1)\n",
    "    return df\n"
   ]
  },
  {
   "cell_type": "code",
   "execution_count": 48,
   "id": "a023153f",
   "metadata": {},
   "outputs": [],
   "source": [
    "df = createDummies(df,\"Country\")"
   ]
  },
  {
   "cell_type": "code",
   "execution_count": 45,
   "id": "7935dfb9",
   "metadata": {},
   "outputs": [],
   "source": [
    "from sklearn.preprocessing import LabelEncoder\n",
    "Sc_y = LabelEncoder()\n",
    "Sc_y.fit(y)\n",
    "y=Sc_y.transform(y)"
   ]
  },
  {
   "cell_type": "code",
   "execution_count": 46,
   "id": "7782b43e",
   "metadata": {},
   "outputs": [
    {
     "data": {
      "text/plain": [
       "array([0, 1, 0, 0, 1, 1, 0, 1, 0, 1])"
      ]
     },
     "execution_count": 46,
     "metadata": {},
     "output_type": "execute_result"
    }
   ],
   "source": [
    "y"
   ]
  },
  {
   "cell_type": "code",
   "execution_count": 49,
   "id": "c29471b4",
   "metadata": {},
   "outputs": [
    {
     "data": {
      "text/html": [
       "<div>\n",
       "<style scoped="">\n",
       "    .dataframe tbody tr th:only-of-type {\n",
       "        vertical-align: middle;\n",
       "    }\n",
       "\n",
       "    .dataframe tbody tr th {\n",
       "        vertical-align: top;\n",
       "    }\n",
       "\n",
       "    .dataframe thead th {\n",
       "        text-align: right;\n",
       "    }\n",
       "</style>\n",
       "\n",
       "  \n",
       "    \n",
       "      \n",
       "      \n",
       "      \n",
       "      \n",
       "      \n",
       "    \n",
       "  \n",
       "  \n",
       "    \n",
       "      \n",
       "      \n",
       "      \n",
       "      \n",
       "      \n",
       "    \n",
       "    \n",
       "      \n",
       "      \n",
       "      \n",
       "      \n",
       "      \n",
       "    \n",
       "    \n",
       "      \n",
       "      \n",
       "      \n",
       "      \n",
       "      \n",
       "    \n",
       "    \n",
       "      \n",
       "      \n",
       "      \n",
       "      \n",
       "      \n",
       "    \n",
       "    \n",
       "      \n",
       "      \n",
       "      \n",
       "      \n",
       "      \n",
       "    \n",
       "    \n",
       "      \n",
       "      \n",
       "      \n",
       "      \n",
       "      \n",
       "    \n",
       "    \n",
       "      \n",
       "      \n",
       "      \n",
       "      \n",
       "      \n",
       "    \n",
       "    \n",
       "      \n",
       "      \n",
       "      \n",
       "      \n",
       "      \n",
       "    \n",
       "    \n",
       "      \n",
       "      \n",
       "      \n",
       "      \n",
       "      \n",
       "    \n",
       "    \n",
       "      \n",
       "      \n",
       "      \n",
       "      \n",
       "      \n",
       "    \n",
       "  \n",
       "<table border="\&quot;1\&quot;" class="\&quot;dataframe\&quot;"><thead><tr style="\&quot;text-align:" right;\"=""><th></th><th>Age</th><th>Salary</th><th>Country_Germany</th><th>Country_Spain</th></tr></thead><tbody><tr><th>0</th><td>44.000000</td><td>72000.0</td><td>0</td><td>0</td></tr><tr><th>1</th><td>27.000000</td><td>48000.0</td><td>0</td><td>1</td></tr><tr><th>2</th><td>30.000000</td><td>54000.0</td><td>1</td><td>0</td></tr><tr><th>3</th><td>38.000000</td><td>61000.0</td><td>0</td><td>1</td></tr><tr><th>4</th><td>40.000000</td><td>61000.0</td><td>1</td><td>0</td></tr><tr><th>5</th><td>35.000000</td><td>58000.0</td><td>0</td><td>0</td></tr><tr><th>6</th><td>38.777778</td><td>52000.0</td><td>0</td><td>1</td></tr><tr><th>7</th><td>48.000000</td><td>79000.0</td><td>0</td><td>0</td></tr><tr><th>8</th><td>50.000000</td><td>83000.0</td><td>1</td><td>0</td></tr><tr><th>9</th><td>37.000000</td><td>67000.0</td><td>0</td><td>0</td></tr></tbody></table>\n",
       "</div>"
      ],
      "text/plain": [
       "         Age   Salary  Country_Germany  Country_Spain\n",
       "0  44.000000  72000.0                0              0\n",
       "1  27.000000  48000.0                0              1\n",
       "2  30.000000  54000.0                1              0\n",
       "3  38.000000  61000.0                0              1\n",
       "4  40.000000  61000.0                1              0\n",
       "5  35.000000  58000.0                0              0\n",
       "6  38.777778  52000.0                0              1\n",
       "7  48.000000  79000.0                0              0\n",
       "8  50.000000  83000.0                1              0\n",
       "9  37.000000  67000.0                0              0"
      ]
     },
     "execution_count": 49,
     "metadata": {},
     "output_type": "execute_result"
    }
   ],
   "source": [
    "df"
   ]
  },
  {
   "cell_type": "markdown",
   "id": "5d2a3be0",
   "metadata": {},
   "source": [
    "# Numerical Data Scaling Methods\n",
    "Both normalization and standardization can be achieved using the scikit-learn library.\n",
    "Data Normalization Normalization is a rescaling of the data from the original range so that all values are within the new range of 0 and 1.\n",
    "\n",
    "Normalization requires that you know or are able to accurately estimate the minimum and maximum observable values. You may be able to estimate these values from your available data.\n",
    "\n",
    "A value is normalized as follows:\n",
    "\n",
    "x' = (x – min) / (max – min)\n",
    "\n",
    "Where the minimum and maximum values pertain to the value x being normalized.\n",
    "\n",
    "For example, for a dataset, we could guesstimate the min and max observable values as 30 and -10. We can then normalize any value, as follows:\n",
    "\n",
    "y = (x – min) / (max – min)\n",
    "y = (18.8 – (-10)) / (30 – (-10))\n",
    "y = 28.8 / 40\n",
    "y = 0.72\n",
    "You can see that if an x value is provided that is outside the bounds of the minimum and maximum values, the resulting value will not be in the range of 0 and 1. You could check for these observations prior to making predictions and either remove them from the dataset or limit them to the pre-defined maximum or minimum values.\n",
    "\n",
    "You can normalize your dataset using the scikit-learn object MinMaxScaler.\n",
    "\n",
    "Good practice usage with the MinMaxScaler and other scaling techniques is as follows:\n",
    "\n",
    "Fit the scaler using available training data. For normalization, this means the training data will be used to estimate the minimum and maximum observable values. This is done by calling the fit() function.\n",
    "Apply the scale to training data. This means you can use the normalized data to train your model. This is done by calling the transform() function.\n",
    "Apply the scale to data going forward. This means you can prepare new data in the future on which you want to make predictions.\n",
    "The default scale for the MinMaxScaler is to rescale variables into the range [0,1], although a preferred scale can be specified via the “feature_range” argument and specify a tuple, including the min and the max for all variables.\n",
    "We can demonstrate the usage of this class by converting two variables to a range 0-to-1, the default range for normalization. The first variable has values between about 4 and 100, the second has values between about 0.1 and 0.001.\n",
    "\n",
    "The complete example is listed below.\n",
    "\n",
    "example of a normalization\n",
    "from numpy import asarray\n",
    "from sklearn.preprocessing import MinMaxScaler\n",
    "\n",
    "data = asarray([[100, 0.001],\n",
    "            [8, 0.05],\n",
    "            [50, 0.005],\n",
    "            [88, 0.07],\n",
    "            [4, 0.1]])\n",
    "print(data)\n",
    "\n",
    "scaler = MinMaxScaler()\n",
    "\n",
    "scaled = scaler.fit_transform(data)\n",
    "print(scaled)\n",
    "[[1. 0. ] [0.04166667 0.49494949] [0.47916667 0.04040404] [0.875 0.6969697 ] [0. 1. ]]\n",
    "\n",
    "Data Standardization\n",
    "\n",
    "Standardizing a dataset involves rescaling the distribution of values so that the mean of observed values is 0 and the standard deviation is 1.\n",
    "\n",
    "This can be thought of as subtracting the mean value or centering the data.\n",
    "\n",
    "Like normalization, standardization can be useful, and even required in some machine learning algorithms when your data has input values with differing scales.\n",
    "\n",
    "Standardization assumes that your observations fit a Gaussian distribution (bell curve) with a well-behaved mean and standard deviation. You can still standardize your data if this expectation is not met, but you may not get reliable results.\n",
    "\n",
    "A value is standardized as follows:\n",
    "\n",
    "x' = (x – mean) / standard_deviation\n",
    "Where the mean is calculated as:\n",
    "\n",
    "mean = sum(x) / count(x)\n",
    "And the standard_deviation is calculated as:\n",
    "standard_deviation = sqrt( sum( (x – mean)^2 ) / count(x))\n",
    "We can guesstimate a mean of 10.0 and a standard deviation of about 5.0. Using these values, we can standardize the first value of 20.7 as follows:\n",
    "\n",
    "y = (x – mean) / standard_deviation\n",
    "y = (20.7 – 10) / 5\n",
    "y = (10.7) / 5\n",
    "y = 2.14\n",
    "The mean and standard deviation estimates of a dataset can be more robust to new data than the minimum and maximum.\n",
    "\n",
    "You can standardize your dataset using the scikit-learn object StandardScaler.\n",
    "\n",
    "The complete example is listed below.\n",
    "\n",
    "example of a standardization\n",
    "from numpy import asarray from sklearn.preprocessing import StandardScaler\n",
    "\n",
    "data = asarray([[100, 0.001], [8, 0.05], [50, 0.005], [88, 0.07], [4, 0.1]]) print(data)\n",
    "\n",
    "scaler = StandardScaler()\n",
    "\n",
    "scaled = scaler.fit_transform(data) print(scaled)\n",
    "\n",
    "[[ 1.26398112 -1.16389967] [-1.06174414 0.12639634] [ 0. -1.05856939] [ 0.96062565 0.65304778] [-1.16286263 1.44302493]]"
   ]
  },
  {
   "cell_type": "code",
   "execution_count": 53,
   "id": "9b92f744",
   "metadata": {},
   "outputs": [],
   "source": [
    "from sklearn.preprocessing import MinMaxScaler\n",
    "from sklearn.preprocessing import StandardScaler"
   ]
  },
  {
   "cell_type": "code",
   "execution_count": 51,
   "id": "795d255c",
   "metadata": {},
   "outputs": [
    {
     "data": {
      "text/html": [
       "<div>\n",
       "<style scoped="">\n",
       "    .dataframe tbody tr th:only-of-type {\n",
       "        vertical-align: middle;\n",
       "    }\n",
       "\n",
       "    .dataframe tbody tr th {\n",
       "        vertical-align: top;\n",
       "    }\n",
       "\n",
       "    .dataframe thead th {\n",
       "        text-align: right;\n",
       "    }\n",
       "</style>\n",
       "\n",
       "  \n",
       "    \n",
       "      \n",
       "      \n",
       "      \n",
       "    \n",
       "  \n",
       "  \n",
       "    \n",
       "      \n",
       "      \n",
       "      \n",
       "    \n",
       "    \n",
       "      \n",
       "      \n",
       "      \n",
       "    \n",
       "    \n",
       "      \n",
       "      \n",
       "      \n",
       "    \n",
       "    \n",
       "      \n",
       "      \n",
       "      \n",
       "    \n",
       "    \n",
       "      \n",
       "      \n",
       "      \n",
       "    \n",
       "    \n",
       "      \n",
       "      \n",
       "      \n",
       "    \n",
       "    \n",
       "      \n",
       "      \n",
       "      \n",
       "    \n",
       "    \n",
       "      \n",
       "      \n",
       "      \n",
       "    \n",
       "    \n",
       "      \n",
       "      \n",
       "      \n",
       "    \n",
       "    \n",
       "      \n",
       "      \n",
       "      \n",
       "    \n",
       "  \n",
       "<table border="\&quot;1\&quot;" class="\&quot;dataframe\&quot;"><thead><tr style="\&quot;text-align:" right;\"=""><th></th><th>Age</th><th>Salary</th></tr></thead><tbody><tr><th>0</th><td>44.000000</td><td>72000.0</td></tr><tr><th>1</th><td>27.000000</td><td>48000.0</td></tr><tr><th>2</th><td>30.000000</td><td>54000.0</td></tr><tr><th>3</th><td>38.000000</td><td>61000.0</td></tr><tr><th>4</th><td>40.000000</td><td>61000.0</td></tr><tr><th>5</th><td>35.000000</td><td>58000.0</td></tr><tr><th>6</th><td>38.777778</td><td>52000.0</td></tr><tr><th>7</th><td>48.000000</td><td>79000.0</td></tr><tr><th>8</th><td>50.000000</td><td>83000.0</td></tr><tr><th>9</th><td>37.000000</td><td>67000.0</td></tr></tbody></table>\n",
       "</div>"
      ],
      "text/plain": [
       "         Age   Salary\n",
       "0  44.000000  72000.0\n",
       "1  27.000000  48000.0\n",
       "2  30.000000  54000.0\n",
       "3  38.000000  61000.0\n",
       "4  40.000000  61000.0\n",
       "5  35.000000  58000.0\n",
       "6  38.777778  52000.0\n",
       "7  48.000000  79000.0\n",
       "8  50.000000  83000.0\n",
       "9  37.000000  67000.0"
      ]
     },
     "execution_count": 51,
     "metadata": {},
     "output_type": "execute_result"
    }
   ],
   "source": [
    "# retrieve just the numeric input values\n",
    "data = df[[\"Age\",\"Salary\"]]\n",
    "data"
   ]
  },
  {
   "cell_type": "code",
   "execution_count": 54,
   "id": "0e2540f6",
   "metadata": {},
   "outputs": [
    {
     "data": {
      "text/plain": [
       "array([[0.73913043, 0.68571429],\n",
       "       [0.        , 0.        ],\n",
       "       [0.13043478, 0.17142857],\n",
       "       [0.47826087, 0.37142857],\n",
       "       [0.56521739, 0.37142857],\n",
       "       [0.34782609, 0.28571429],\n",
       "       [0.51207729, 0.11428571],\n",
       "       [0.91304348, 0.88571429],\n",
       "       [1.        , 1.        ],\n",
       "       [0.43478261, 0.54285714]])"
      ]
     },
     "execution_count": 54,
     "metadata": {},
     "output_type": "execute_result"
    }
   ],
   "source": [
    "# perform a robust scaler transform of the dataset\n",
    "trans = MinMaxScaler()\n",
    "data = trans.fit_transform(data)\n",
    "data"
   ]
  },
  {
   "cell_type": "code",
   "execution_count": 55,
   "id": "7cc9b234",
   "metadata": {},
   "outputs": [
    {
     "data": {
      "text/html": [
       "<div>\n",
       "<style scoped="">\n",
       "    .dataframe tbody tr th:only-of-type {\n",
       "        vertical-align: middle;\n",
       "    }\n",
       "\n",
       "    .dataframe tbody tr th {\n",
       "        vertical-align: top;\n",
       "    }\n",
       "\n",
       "    .dataframe thead th {\n",
       "        text-align: right;\n",
       "    }\n",
       "</style>\n",
       "\n",
       "  \n",
       "    \n",
       "      \n",
       "      \n",
       "      \n",
       "    \n",
       "  \n",
       "  \n",
       "    \n",
       "      \n",
       "      \n",
       "      \n",
       "    \n",
       "    \n",
       "      \n",
       "      \n",
       "      \n",
       "    \n",
       "    \n",
       "      \n",
       "      \n",
       "      \n",
       "    \n",
       "    \n",
       "      \n",
       "      \n",
       "      \n",
       "    \n",
       "    \n",
       "      \n",
       "      \n",
       "      \n",
       "    \n",
       "    \n",
       "      \n",
       "      \n",
       "      \n",
       "    \n",
       "    \n",
       "      \n",
       "      \n",
       "      \n",
       "    \n",
       "    \n",
       "      \n",
       "      \n",
       "      \n",
       "    \n",
       "    \n",
       "      \n",
       "      \n",
       "      \n",
       "    \n",
       "    \n",
       "      \n",
       "      \n",
       "      \n",
       "    \n",
       "  \n",
       "<table border="\&quot;1\&quot;" class="\&quot;dataframe\&quot;"><thead><tr style="\&quot;text-align:" right;\"=""><th></th><th>Age</th><th>Salary</th></tr></thead><tbody><tr><th>0</th><td>44.000000</td><td>72000.0</td></tr><tr><th>1</th><td>27.000000</td><td>48000.0</td></tr><tr><th>2</th><td>30.000000</td><td>54000.0</td></tr><tr><th>3</th><td>38.000000</td><td>61000.0</td></tr><tr><th>4</th><td>40.000000</td><td>61000.0</td></tr><tr><th>5</th><td>35.000000</td><td>58000.0</td></tr><tr><th>6</th><td>38.777778</td><td>52000.0</td></tr><tr><th>7</th><td>48.000000</td><td>79000.0</td></tr><tr><th>8</th><td>50.000000</td><td>83000.0</td></tr><tr><th>9</th><td>37.000000</td><td>67000.0</td></tr></tbody></table>\n",
       "</div>"
      ],
      "text/plain": [
       "         Age   Salary\n",
       "0  44.000000  72000.0\n",
       "1  27.000000  48000.0\n",
       "2  30.000000  54000.0\n",
       "3  38.000000  61000.0\n",
       "4  40.000000  61000.0\n",
       "5  35.000000  58000.0\n",
       "6  38.777778  52000.0\n",
       "7  48.000000  79000.0\n",
       "8  50.000000  83000.0\n",
       "9  37.000000  67000.0"
      ]
     },
     "execution_count": 55,
     "metadata": {},
     "output_type": "execute_result"
    }
   ],
   "source": [
    "# retrieve just the numeric input values\n",
    "data = df[[\"Age\",\"Salary\"]]\n",
    "data"
   ]
  },
  {
   "cell_type": "code",
   "execution_count": 56,
   "id": "bc999dde",
   "metadata": {},
   "outputs": [
    {
     "data": {
      "text/plain": [
       "array([[ 0.75887436,  0.77256767],\n",
       "       [-1.71150388, -1.40879986],\n",
       "       [-1.27555478, -0.86345798],\n",
       "       [-0.11302384, -0.22722578],\n",
       "       [ 0.17760889, -0.22722578],\n",
       "       [-0.54897294, -0.49989673],\n",
       "       [ 0.        , -1.04523861],\n",
       "       [ 1.34013983,  1.40879986],\n",
       "       [ 1.63077256,  1.77236112],\n",
       "       [-0.25834021,  0.3181161 ]])"
      ]
     },
     "execution_count": 56,
     "metadata": {},
     "output_type": "execute_result"
    }
   ],
   "source": [
    "# perform a robust scaler transform of the dataset\n",
    "trans = StandardScaler()\n",
    "data = trans.fit_transform(data)\n",
    "data"
   ]
  },
  {
   "cell_type": "code",
   "execution_count": 57,
   "id": "fd8101c9",
   "metadata": {},
   "outputs": [],
   "source": [
    "data = pd.DataFrame(data,columns=[\"Age_std\",\"Salary_std\"])"
   ]
  },
  {
   "cell_type": "code",
   "execution_count": 58,
   "id": "3eac8a24",
   "metadata": {},
   "outputs": [
    {
     "data": {
      "text/html": [
       "<div>\n",
       "<style scoped="">\n",
       "    .dataframe tbody tr th:only-of-type {\n",
       "        vertical-align: middle;\n",
       "    }\n",
       "\n",
       "    .dataframe tbody tr th {\n",
       "        vertical-align: top;\n",
       "    }\n",
       "\n",
       "    .dataframe thead th {\n",
       "        text-align: right;\n",
       "    }\n",
       "</style>\n",
       "\n",
       "  \n",
       "    \n",
       "      \n",
       "      \n",
       "      \n",
       "    \n",
       "  \n",
       "  \n",
       "    \n",
       "      \n",
       "      \n",
       "      \n",
       "    \n",
       "    \n",
       "      \n",
       "      \n",
       "      \n",
       "    \n",
       "    \n",
       "      \n",
       "      \n",
       "      \n",
       "    \n",
       "    \n",
       "      \n",
       "      \n",
       "      \n",
       "    \n",
       "    \n",
       "      \n",
       "      \n",
       "      \n",
       "    \n",
       "    \n",
       "      \n",
       "      \n",
       "      \n",
       "    \n",
       "    \n",
       "      \n",
       "      \n",
       "      \n",
       "    \n",
       "    \n",
       "      \n",
       "      \n",
       "      \n",
       "    \n",
       "    \n",
       "      \n",
       "      \n",
       "      \n",
       "    \n",
       "    \n",
       "      \n",
       "      \n",
       "      \n",
       "    \n",
       "  \n",
       "<table border="\&quot;1\&quot;" class="\&quot;dataframe\&quot;"><thead><tr style="\&quot;text-align:" right;\"=""><th></th><th>Age_std</th><th>Salary_std</th></tr></thead><tbody><tr><th>0</th><td>0.758874</td><td>0.772568</td></tr><tr><th>1</th><td>-1.711504</td><td>-1.408800</td></tr><tr><th>2</th><td>-1.275555</td><td>-0.863458</td></tr><tr><th>3</th><td>-0.113024</td><td>-0.227226</td></tr><tr><th>4</th><td>0.177609</td><td>-0.227226</td></tr><tr><th>5</th><td>-0.548973</td><td>-0.499897</td></tr><tr><th>6</th><td>0.000000</td><td>-1.045239</td></tr><tr><th>7</th><td>1.340140</td><td>1.408800</td></tr><tr><th>8</th><td>1.630773</td><td>1.772361</td></tr><tr><th>9</th><td>-0.258340</td><td>0.318116</td></tr></tbody></table>\n",
       "</div>"
      ],
      "text/plain": [
       "    Age_std  Salary_std\n",
       "0  0.758874    0.772568\n",
       "1 -1.711504   -1.408800\n",
       "2 -1.275555   -0.863458\n",
       "3 -0.113024   -0.227226\n",
       "4  0.177609   -0.227226\n",
       "5 -0.548973   -0.499897\n",
       "6  0.000000   -1.045239\n",
       "7  1.340140    1.408800\n",
       "8  1.630773    1.772361\n",
       "9 -0.258340    0.318116"
      ]
     },
     "execution_count": 58,
     "metadata": {},
     "output_type": "execute_result"
    }
   ],
   "source": [
    "data"
   ]
  },
  {
   "cell_type": "code",
   "execution_count": 62,
   "id": "c77e75c0",
   "metadata": {},
   "outputs": [
    {
     "data": {
      "text/html": [
       "<div>\n",
       "<style scoped="">\n",
       "    .dataframe tbody tr th:only-of-type {\n",
       "        vertical-align: middle;\n",
       "    }\n",
       "\n",
       "    .dataframe tbody tr th {\n",
       "        vertical-align: top;\n",
       "    }\n",
       "\n",
       "    .dataframe thead th {\n",
       "        text-align: right;\n",
       "    }\n",
       "</style>\n",
       "\n",
       "  \n",
       "    \n",
       "      \n",
       "      \n",
       "      \n",
       "      \n",
       "      \n",
       "    \n",
       "  \n",
       "  \n",
       "    \n",
       "      \n",
       "      \n",
       "      \n",
       "      \n",
       "      \n",
       "    \n",
       "    \n",
       "      \n",
       "      \n",
       "      \n",
       "      \n",
       "      \n",
       "    \n",
       "    \n",
       "      \n",
       "      \n",
       "      \n",
       "      \n",
       "      \n",
       "    \n",
       "    \n",
       "      \n",
       "      \n",
       "      \n",
       "      \n",
       "      \n",
       "    \n",
       "    \n",
       "      \n",
       "      \n",
       "      \n",
       "      \n",
       "      \n",
       "    \n",
       "    \n",
       "      \n",
       "      \n",
       "      \n",
       "      \n",
       "      \n",
       "    \n",
       "    \n",
       "      \n",
       "      \n",
       "      \n",
       "      \n",
       "      \n",
       "    \n",
       "    \n",
       "      \n",
       "      \n",
       "      \n",
       "      \n",
       "      \n",
       "    \n",
       "    \n",
       "      \n",
       "      \n",
       "      \n",
       "      \n",
       "      \n",
       "    \n",
       "    \n",
       "      \n",
       "      \n",
       "      \n",
       "      \n",
       "      \n",
       "    \n",
       "  \n",
       "<table border="\&quot;1\&quot;" class="\&quot;dataframe\&quot;"><thead><tr style="\&quot;text-align:" right;\"=""><th></th><th>Age</th><th>Salary</th><th>Country_Germany</th><th>Country_Spain</th></tr></thead><tbody><tr><th>0</th><td>44.000000</td><td>72000.0</td><td>0</td><td>0</td></tr><tr><th>1</th><td>27.000000</td><td>48000.0</td><td>0</td><td>1</td></tr><tr><th>2</th><td>30.000000</td><td>54000.0</td><td>1</td><td>0</td></tr><tr><th>3</th><td>38.000000</td><td>61000.0</td><td>0</td><td>1</td></tr><tr><th>4</th><td>40.000000</td><td>61000.0</td><td>1</td><td>0</td></tr><tr><th>5</th><td>35.000000</td><td>58000.0</td><td>0</td><td>0</td></tr><tr><th>6</th><td>38.777778</td><td>52000.0</td><td>0</td><td>1</td></tr><tr><th>7</th><td>48.000000</td><td>79000.0</td><td>0</td><td>0</td></tr><tr><th>8</th><td>50.000000</td><td>83000.0</td><td>1</td><td>0</td></tr><tr><th>9</th><td>37.000000</td><td>67000.0</td><td>0</td><td>0</td></tr></tbody></table>\n",
       "</div>"
      ],
      "text/plain": [
       "         Age   Salary  Country_Germany  Country_Spain\n",
       "0  44.000000  72000.0                0              0\n",
       "1  27.000000  48000.0                0              1\n",
       "2  30.000000  54000.0                1              0\n",
       "3  38.000000  61000.0                0              1\n",
       "4  40.000000  61000.0                1              0\n",
       "5  35.000000  58000.0                0              0\n",
       "6  38.777778  52000.0                0              1\n",
       "7  48.000000  79000.0                0              0\n",
       "8  50.000000  83000.0                1              0\n",
       "9  37.000000  67000.0                0              0"
      ]
     },
     "execution_count": 62,
     "metadata": {},
     "output_type": "execute_result"
    }
   ],
   "source": [
    "df"
   ]
  },
  {
   "cell_type": "code",
   "execution_count": 63,
   "id": "810a4cbb",
   "metadata": {},
   "outputs": [
    {
     "data": {
      "text/html": [
       "<div>\n",
       "<style scoped="">\n",
       "    .dataframe tbody tr th:only-of-type {\n",
       "        vertical-align: middle;\n",
       "    }\n",
       "\n",
       "    .dataframe tbody tr th {\n",
       "        vertical-align: top;\n",
       "    }\n",
       "\n",
       "    .dataframe thead th {\n",
       "        text-align: right;\n",
       "    }\n",
       "</style>\n",
       "\n",
       "  \n",
       "    \n",
       "      \n",
       "      \n",
       "      \n",
       "      \n",
       "      \n",
       "    \n",
       "  \n",
       "  \n",
       "    \n",
       "      \n",
       "      \n",
       "      \n",
       "      \n",
       "      \n",
       "    \n",
       "    \n",
       "      \n",
       "      \n",
       "      \n",
       "      \n",
       "      \n",
       "    \n",
       "    \n",
       "      \n",
       "      \n",
       "      \n",
       "      \n",
       "      \n",
       "    \n",
       "    \n",
       "      \n",
       "      \n",
       "      \n",
       "      \n",
       "      \n",
       "    \n",
       "    \n",
       "      \n",
       "      \n",
       "      \n",
       "      \n",
       "      \n",
       "    \n",
       "    \n",
       "      \n",
       "      \n",
       "      \n",
       "      \n",
       "      \n",
       "    \n",
       "    \n",
       "      \n",
       "      \n",
       "      \n",
       "      \n",
       "      \n",
       "    \n",
       "    \n",
       "      \n",
       "      \n",
       "      \n",
       "      \n",
       "      \n",
       "    \n",
       "    \n",
       "      \n",
       "      \n",
       "      \n",
       "      \n",
       "      \n",
       "    \n",
       "    \n",
       "      \n",
       "      \n",
       "      \n",
       "      \n",
       "      \n",
       "    \n",
       "  \n",
       "<table border="\&quot;1\&quot;" class="\&quot;dataframe\&quot;"><thead><tr style="\&quot;text-align:" right;\"=""><th></th><th>Country_Germany</th><th>Country_Spain</th><th>Age_std</th><th>Salary_std</th></tr></thead><tbody><tr><th>0</th><td>0</td><td>0</td><td>0.758874</td><td>0.772568</td></tr><tr><th>1</th><td>0</td><td>1</td><td>-1.711504</td><td>-1.408800</td></tr><tr><th>2</th><td>1</td><td>0</td><td>-1.275555</td><td>-0.863458</td></tr><tr><th>3</th><td>0</td><td>1</td><td>-0.113024</td><td>-0.227226</td></tr><tr><th>4</th><td>1</td><td>0</td><td>0.177609</td><td>-0.227226</td></tr><tr><th>5</th><td>0</td><td>0</td><td>-0.548973</td><td>-0.499897</td></tr><tr><th>6</th><td>0</td><td>1</td><td>0.000000</td><td>-1.045239</td></tr><tr><th>7</th><td>0</td><td>0</td><td>1.340140</td><td>1.408800</td></tr><tr><th>8</th><td>1</td><td>0</td><td>1.630773</td><td>1.772361</td></tr><tr><th>9</th><td>0</td><td>0</td><td>-0.258340</td><td>0.318116</td></tr></tbody></table>\n",
       "</div>"
      ],
      "text/plain": [
       "   Country_Germany  Country_Spain   Age_std  Salary_std\n",
       "0                0              0  0.758874    0.772568\n",
       "1                0              1 -1.711504   -1.408800\n",
       "2                1              0 -1.275555   -0.863458\n",
       "3                0              1 -0.113024   -0.227226\n",
       "4                1              0  0.177609   -0.227226\n",
       "5                0              0 -0.548973   -0.499897\n",
       "6                0              1  0.000000   -1.045239\n",
       "7                0              0  1.340140    1.408800\n",
       "8                1              0  1.630773    1.772361\n",
       "9                0              0 -0.258340    0.318116"
      ]
     },
     "execution_count": 63,
     "metadata": {},
     "output_type": "execute_result"
    }
   ],
   "source": [
    "df = df.drop(columns=[\"Age\",\"Salary\"])\n",
    "df = pd.concat([df, data ], axis = 1)\n",
    "df"
   ]
  },
  {
   "cell_type": "code",
   "execution_count": 64,
   "id": "d747d653",
   "metadata": {},
   "outputs": [
    {
     "data": {
      "text/html": [
       "<div>\n",
       "<style scoped="">\n",
       "    .dataframe tbody tr th:only-of-type {\n",
       "        vertical-align: middle;\n",
       "    }\n",
       "\n",
       "    .dataframe tbody tr th {\n",
       "        vertical-align: top;\n",
       "    }\n",
       "\n",
       "    .dataframe thead th {\n",
       "        text-align: right;\n",
       "    }\n",
       "</style>\n",
       "\n",
       "  \n",
       "    \n",
       "      \n",
       "      \n",
       "      \n",
       "      \n",
       "      \n",
       "    \n",
       "  \n",
       "  \n",
       "    \n",
       "      \n",
       "      \n",
       "      \n",
       "      \n",
       "      \n",
       "    \n",
       "    \n",
       "      \n",
       "      \n",
       "      \n",
       "      \n",
       "      \n",
       "    \n",
       "    \n",
       "      \n",
       "      \n",
       "      \n",
       "      \n",
       "      \n",
       "    \n",
       "    \n",
       "      \n",
       "      \n",
       "      \n",
       "      \n",
       "      \n",
       "    \n",
       "    \n",
       "      \n",
       "      \n",
       "      \n",
       "      \n",
       "      \n",
       "    \n",
       "    \n",
       "      \n",
       "      \n",
       "      \n",
       "      \n",
       "      \n",
       "    \n",
       "    \n",
       "      \n",
       "      \n",
       "      \n",
       "      \n",
       "      \n",
       "    \n",
       "    \n",
       "      \n",
       "      \n",
       "      \n",
       "      \n",
       "      \n",
       "    \n",
       "    \n",
       "      \n",
       "      \n",
       "      \n",
       "      \n",
       "      \n",
       "    \n",
       "    \n",
       "      \n",
       "      \n",
       "      \n",
       "      \n",
       "      \n",
       "    \n",
       "  \n",
       "<table border="\&quot;1\&quot;" class="\&quot;dataframe\&quot;"><thead><tr style="\&quot;text-align:" right;\"=""><th></th><th>Country</th><th>Age</th><th>Salary</th><th>Purchased</th></tr></thead><tbody><tr><th>0</th><td>France</td><td>44.0</td><td>72000.0</td><td>No</td></tr><tr><th>1</th><td>Spain</td><td>27.0</td><td>48000.0</td><td>Yes</td></tr><tr><th>2</th><td>Germany</td><td>30.0</td><td>54000.0</td><td>No</td></tr><tr><th>3</th><td>Spain</td><td>38.0</td><td>61000.0</td><td>No</td></tr><tr><th>4</th><td>Germany</td><td>40.0</td><td>NaN</td><td>Yes</td></tr><tr><th>5</th><td>France</td><td>35.0</td><td>58000.0</td><td>Yes</td></tr><tr><th>6</th><td>Spain</td><td>NaN</td><td>52000.0</td><td>No</td></tr><tr><th>7</th><td>France</td><td>48.0</td><td>79000.0</td><td>Yes</td></tr><tr><th>8</th><td>Germany</td><td>50.0</td><td>83000.0</td><td>No</td></tr><tr><th>9</th><td>France</td><td>37.0</td><td>67000.0</td><td>Yes</td></tr></tbody></table>\n",
       "</div>"
      ],
      "text/plain": [
       "   Country   Age   Salary Purchased\n",
       "0   France  44.0  72000.0        No\n",
       "1    Spain  27.0  48000.0       Yes\n",
       "2  Germany  30.0  54000.0        No\n",
       "3    Spain  38.0  61000.0        No\n",
       "4  Germany  40.0      NaN       Yes\n",
       "5   France  35.0  58000.0       Yes\n",
       "6    Spain   NaN  52000.0        No\n",
       "7   France  48.0  79000.0       Yes\n",
       "8  Germany  50.0  83000.0        No\n",
       "9   France  37.0  67000.0       Yes"
      ]
     },
     "execution_count": 64,
     "metadata": {},
     "output_type": "execute_result"
    }
   ],
   "source": [
    "df = pd.read_csv(\"data.csv\")\n",
    "df"
   ]
  },
  {
   "cell_type": "code",
   "execution_count": 65,
   "id": "f23ae216",
   "metadata": {},
   "outputs": [],
   "source": [
    "df.Age.fillna(df.Age.mean(),inplace=True)"
   ]
  },
  {
   "cell_type": "code",
   "execution_count": 66,
   "id": "94871306",
   "metadata": {},
   "outputs": [],
   "source": [
    "df.Salary = df.Salary.fillna(method=\"ffill\")"
   ]
  },
  {
   "cell_type": "code",
   "execution_count": 67,
   "id": "3dc2a6ca",
   "metadata": {},
   "outputs": [
    {
     "name": "stdout",
     "output_type": "stream",
     "text": [
      "<class 'pandas.core.frame.dataframe'="">\n",
      "RangeIndex: 10 entries, 0 to 9\n",
      "Data columns (total 4 columns):\n",
      " #   Column     Non-Null Count  Dtype  \n",
      "---  ------     --------------  -----  \n",
      " 0   Country    10 non-null     object \n",
      " 1   Age        10 non-null     float64\n",
      " 2   Salary     10 non-null     float64\n",
      " 3   Purchased  10 non-null     object \n",
      "dtypes: float64(2), object(2)\n",
      "memory usage: 448.0+ bytes\n"
     ]
    }
   ],
   "source": [
    "df.info()"
   ]
  },
  {
   "cell_type": "code",
   "execution_count": 68,
   "id": "a01e059b",
   "metadata": {},
   "outputs": [],
   "source": [
    "y = df.Purchased"
   ]
  },
  {
   "cell_type": "code",
   "execution_count": 69,
   "id": "7be27e59",
   "metadata": {},
   "outputs": [],
   "source": [
    "df.drop(columns=\"Purchased\",inplace=True)"
   ]
  },
  {
   "cell_type": "code",
   "execution_count": 70,
   "id": "a2c24132",
   "metadata": {},
   "outputs": [
    {
     "data": {
      "text/html": [
       "<div>\n",
       "<style scoped="">\n",
       "    .dataframe tbody tr th:only-of-type {\n",
       "        vertical-align: middle;\n",
       "    }\n",
       "\n",
       "    .dataframe tbody tr th {\n",
       "        vertical-align: top;\n",
       "    }\n",
       "\n",
       "    .dataframe thead th {\n",
       "        text-align: right;\n",
       "    }\n",
       "</style>\n",
       "\n",
       "  \n",
       "    \n",
       "      \n",
       "      \n",
       "      \n",
       "      \n",
       "    \n",
       "  \n",
       "  \n",
       "    \n",
       "      \n",
       "      \n",
       "      \n",
       "      \n",
       "    \n",
       "    \n",
       "      \n",
       "      \n",
       "      \n",
       "      \n",
       "    \n",
       "    \n",
       "      \n",
       "      \n",
       "      \n",
       "      \n",
       "    \n",
       "    \n",
       "      \n",
       "      \n",
       "      \n",
       "      \n",
       "    \n",
       "    \n",
       "      \n",
       "      \n",
       "      \n",
       "      \n",
       "    \n",
       "    \n",
       "      \n",
       "      \n",
       "      \n",
       "      \n",
       "    \n",
       "    \n",
       "      \n",
       "      \n",
       "      \n",
       "      \n",
       "    \n",
       "    \n",
       "      \n",
       "      \n",
       "      \n",
       "      \n",
       "    \n",
       "    \n",
       "      \n",
       "      \n",
       "      \n",
       "      \n",
       "    \n",
       "    \n",
       "      \n",
       "      \n",
       "      \n",
       "      \n",
       "    \n",
       "  \n",
       "<table border="\&quot;1\&quot;" class="\&quot;dataframe\&quot;"><thead><tr style="\&quot;text-align:" right;\"=""><th></th><th>Country</th><th>Age</th><th>Salary</th></tr></thead><tbody><tr><th>0</th><td>France</td><td>44.000000</td><td>72000.0</td></tr><tr><th>1</th><td>Spain</td><td>27.000000</td><td>48000.0</td></tr><tr><th>2</th><td>Germany</td><td>30.000000</td><td>54000.0</td></tr><tr><th>3</th><td>Spain</td><td>38.000000</td><td>61000.0</td></tr><tr><th>4</th><td>Germany</td><td>40.000000</td><td>61000.0</td></tr><tr><th>5</th><td>France</td><td>35.000000</td><td>58000.0</td></tr><tr><th>6</th><td>Spain</td><td>38.777778</td><td>52000.0</td></tr><tr><th>7</th><td>France</td><td>48.000000</td><td>79000.0</td></tr><tr><th>8</th><td>Germany</td><td>50.000000</td><td>83000.0</td></tr><tr><th>9</th><td>France</td><td>37.000000</td><td>67000.0</td></tr></tbody></table>\n",
       "</div>"
      ],
      "text/plain": [
       "   Country        Age   Salary\n",
       "0   France  44.000000  72000.0\n",
       "1    Spain  27.000000  48000.0\n",
       "2  Germany  30.000000  54000.0\n",
       "3    Spain  38.000000  61000.0\n",
       "4  Germany  40.000000  61000.0\n",
       "5   France  35.000000  58000.0\n",
       "6    Spain  38.777778  52000.0\n",
       "7   France  48.000000  79000.0\n",
       "8  Germany  50.000000  83000.0\n",
       "9   France  37.000000  67000.0"
      ]
     },
     "execution_count": 70,
     "metadata": {},
     "output_type": "execute_result"
    }
   ],
   "source": [
    "df"
   ]
  },
  {
   "cell_type": "code",
   "execution_count": 71,
   "id": "066b0369",
   "metadata": {},
   "outputs": [],
   "source": [
    "df = createDummies(df,\"Country\")"
   ]
  },
  {
   "cell_type": "code",
   "execution_count": 72,
   "id": "99c2b624",
   "metadata": {},
   "outputs": [
    {
     "data": {
      "text/html": [
       "<div>\n",
       "<style scoped="">\n",
       "    .dataframe tbody tr th:only-of-type {\n",
       "        vertical-align: middle;\n",
       "    }\n",
       "\n",
       "    .dataframe tbody tr th {\n",
       "        vertical-align: top;\n",
       "    }\n",
       "\n",
       "    .dataframe thead th {\n",
       "        text-align: right;\n",
       "    }\n",
       "</style>\n",
       "\n",
       "  \n",
       "    \n",
       "      \n",
       "      \n",
       "      \n",
       "      \n",
       "      \n",
       "    \n",
       "  \n",
       "  \n",
       "    \n",
       "      \n",
       "      \n",
       "      \n",
       "      \n",
       "      \n",
       "    \n",
       "    \n",
       "      \n",
       "      \n",
       "      \n",
       "      \n",
       "      \n",
       "    \n",
       "    \n",
       "      \n",
       "      \n",
       "      \n",
       "      \n",
       "      \n",
       "    \n",
       "    \n",
       "      \n",
       "      \n",
       "      \n",
       "      \n",
       "      \n",
       "    \n",
       "    \n",
       "      \n",
       "      \n",
       "      \n",
       "      \n",
       "      \n",
       "    \n",
       "    \n",
       "      \n",
       "      \n",
       "      \n",
       "      \n",
       "      \n",
       "    \n",
       "    \n",
       "      \n",
       "      \n",
       "      \n",
       "      \n",
       "      \n",
       "    \n",
       "    \n",
       "      \n",
       "      \n",
       "      \n",
       "      \n",
       "      \n",
       "    \n",
       "    \n",
       "      \n",
       "      \n",
       "      \n",
       "      \n",
       "      \n",
       "    \n",
       "    \n",
       "      \n",
       "      \n",
       "      \n",
       "      \n",
       "      \n",
       "    \n",
       "  \n",
       "<table border="\&quot;1\&quot;" class="\&quot;dataframe\&quot;"><thead><tr style="\&quot;text-align:" right;\"=""><th></th><th>Age</th><th>Salary</th><th>Country_Germany</th><th>Country_Spain</th></tr></thead><tbody><tr><th>0</th><td>44.000000</td><td>72000.0</td><td>0</td><td>0</td></tr><tr><th>1</th><td>27.000000</td><td>48000.0</td><td>0</td><td>1</td></tr><tr><th>2</th><td>30.000000</td><td>54000.0</td><td>1</td><td>0</td></tr><tr><th>3</th><td>38.000000</td><td>61000.0</td><td>0</td><td>1</td></tr><tr><th>4</th><td>40.000000</td><td>61000.0</td><td>1</td><td>0</td></tr><tr><th>5</th><td>35.000000</td><td>58000.0</td><td>0</td><td>0</td></tr><tr><th>6</th><td>38.777778</td><td>52000.0</td><td>0</td><td>1</td></tr><tr><th>7</th><td>48.000000</td><td>79000.0</td><td>0</td><td>0</td></tr><tr><th>8</th><td>50.000000</td><td>83000.0</td><td>1</td><td>0</td></tr><tr><th>9</th><td>37.000000</td><td>67000.0</td><td>0</td><td>0</td></tr></tbody></table>\n",
       "</div>"
      ],
      "text/plain": [
       "         Age   Salary  Country_Germany  Country_Spain\n",
       "0  44.000000  72000.0                0              0\n",
       "1  27.000000  48000.0                0              1\n",
       "2  30.000000  54000.0                1              0\n",
       "3  38.000000  61000.0                0              1\n",
       "4  40.000000  61000.0                1              0\n",
       "5  35.000000  58000.0                0              0\n",
       "6  38.777778  52000.0                0              1\n",
       "7  48.000000  79000.0                0              0\n",
       "8  50.000000  83000.0                1              0\n",
       "9  37.000000  67000.0                0              0"
      ]
     },
     "execution_count": 72,
     "metadata": {},
     "output_type": "execute_result"
    }
   ],
   "source": [
    "df"
   ]
  },
  {
   "cell_type": "code",
   "execution_count": 73,
   "id": "8c963621",
   "metadata": {},
   "outputs": [
    {
     "data": {
      "text/plain": [
       "array([[ 0.75887436,  0.77256767, -0.65465367, -0.65465367],\n",
       "       [-1.71150388, -1.40879986, -0.65465367,  1.52752523],\n",
       "       [-1.27555478, -0.86345798,  1.52752523, -0.65465367],\n",
       "       [-0.11302384, -0.22722578, -0.65465367,  1.52752523],\n",
       "       [ 0.17760889, -0.22722578,  1.52752523, -0.65465367],\n",
       "       [-0.54897294, -0.49989673, -0.65465367, -0.65465367],\n",
       "       [ 0.        , -1.04523861, -0.65465367,  1.52752523],\n",
       "       [ 1.34013983,  1.40879986, -0.65465367, -0.65465367],\n",
       "       [ 1.63077256,  1.77236112,  1.52752523, -0.65465367],\n",
       "       [-0.25834021,  0.3181161 , -0.65465367, -0.65465367]])"
      ]
     },
     "execution_count": 73,
     "metadata": {},
     "output_type": "execute_result"
    }
   ],
   "source": [
    "trans = StandardScaler()\n",
    "data = trans.fit_transform(df)\n",
    "data"
   ]
  },
  {
   "cell_type": "code",
   "execution_count": 74,
   "id": "3479e3ec",
   "metadata": {},
   "outputs": [],
   "source": [
    "# (modified from http://www.itl.nist.gov/div898/handbook/prc/section1/prc16.htm)\n",
    "def get_iqr_values(df_in, col_name):\n",
    "    median = df_in[col_name].median()\n",
    "    q1 = df_in[col_name].quantile(0.25) # 25th percentile / 1st quartile\n",
    "    q3 = df_in[col_name].quantile(0.75) # 7th percentile / 3rd quartile\n",
    "    iqr = q3-q1 #Interquartile range\n",
    "    minimum  = q1-1.5*iqr # The minimum value or the |- marker in the box plot\n",
    "    maximum = q3+1.5*iqr # The maximum value or the -| marker in the box plot\n",
    "    return median, q1, q3, iqr, minimum, maximum\n",
    "\n",
    "def get_iqr_text(df_in, col_name):\n",
    "    median, q1, q3, iqr, minimum, maximum = get_iqr_values(df_in, col_name)\n",
    "    text = f\"median={median:.2f}, q1={q1:.2f}, q3={q3:.2f}, iqr={iqr:.2f}, minimum={minimum:.2f}, maximum={maximum:.2f}\"\n",
    "    return text\n",
    "\n",
    "def remove_outliers(df_in, col_name):\n",
    "    _, _, _, _, minimum, maximum = get_iqr_values(df_in, col_name)\n",
    "    df_out = df_in.loc[(df_in[col_name] &gt; minimum) &amp; (df_in[col_name] &lt; maximum)]\n",
    "    return df_out\n",
    "\n",
    "def count_outliers(df_in, col_name):\n",
    "    _, _, _, _, minimum, maximum = get_iqr_values(df_in, col_name)\n",
    "    df_outliers = df_in.loc[(df_in[col_name] &lt;= minimum) | (df_in[col_name] &gt;= maximum)]\n",
    "    return df_outliers.shape[0]\n",
    "\n",
    "def box_and_whisker(df_in, col_name):\n",
    "    title = get_iqr_text(df_in, col_name)\n",
    "    sns.boxplot(df_in[col_name])\n",
    "    plt.title(title)\n",
    "    plt.show()"
   ]
  },
  {
   "cell_type": "code",
   "execution_count": 75,
   "id": "06cb5771",
   "metadata": {},
   "outputs": [
    {
     "data": {
      "text/html": [
       "<div>\n",
       "<style scoped="">\n",
       "    .dataframe tbody tr th:only-of-type {\n",
       "        vertical-align: middle;\n",
       "    }\n",
       "\n",
       "    .dataframe tbody tr th {\n",
       "        vertical-align: top;\n",
       "    }\n",
       "\n",
       "    .dataframe thead th {\n",
       "        text-align: right;\n",
       "    }\n",
       "</style>\n",
       "\n",
       "  \n",
       "    \n",
       "      \n",
       "      \n",
       "      \n",
       "      \n",
       "      \n",
       "    \n",
       "  \n",
       "  \n",
       "    \n",
       "      \n",
       "      \n",
       "      \n",
       "      \n",
       "      \n",
       "    \n",
       "    \n",
       "      \n",
       "      \n",
       "      \n",
       "      \n",
       "      \n",
       "    \n",
       "    \n",
       "      \n",
       "      \n",
       "      \n",
       "      \n",
       "      \n",
       "    \n",
       "    \n",
       "      \n",
       "      \n",
       "      \n",
       "      \n",
       "      \n",
       "    \n",
       "    \n",
       "      \n",
       "      \n",
       "      \n",
       "      \n",
       "      \n",
       "    \n",
       "    \n",
       "      \n",
       "      \n",
       "      \n",
       "      \n",
       "      \n",
       "    \n",
       "    \n",
       "      \n",
       "      \n",
       "      \n",
       "      \n",
       "      \n",
       "    \n",
       "    \n",
       "      \n",
       "      \n",
       "      \n",
       "      \n",
       "      \n",
       "    \n",
       "    \n",
       "      \n",
       "      \n",
       "      \n",
       "      \n",
       "      \n",
       "    \n",
       "    \n",
       "      \n",
       "      \n",
       "      \n",
       "      \n",
       "      \n",
       "    \n",
       "  \n",
       "<table border="\&quot;1\&quot;" class="\&quot;dataframe\&quot;"><thead><tr style="\&quot;text-align:" right;\"=""><th></th><th>Country</th><th>Age</th><th>Salary</th><th>Purchased</th></tr></thead><tbody><tr><th>0</th><td>France</td><td>44.0</td><td>72000.0</td><td>No</td></tr><tr><th>1</th><td>Spain</td><td>27.0</td><td>48000.0</td><td>Yes</td></tr><tr><th>2</th><td>Germany</td><td>30.0</td><td>54000.0</td><td>No</td></tr><tr><th>3</th><td>Spain</td><td>38.0</td><td>61000.0</td><td>No</td></tr><tr><th>4</th><td>Germany</td><td>40.0</td><td>NaN</td><td>Yes</td></tr><tr><th>5</th><td>France</td><td>35.0</td><td>58000.0</td><td>Yes</td></tr><tr><th>6</th><td>Spain</td><td>NaN</td><td>52000.0</td><td>No</td></tr><tr><th>7</th><td>France</td><td>48.0</td><td>79000.0</td><td>Yes</td></tr><tr><th>8</th><td>Germany</td><td>50.0</td><td>83000.0</td><td>No</td></tr><tr><th>9</th><td>France</td><td>37.0</td><td>67000.0</td><td>Yes</td></tr></tbody></table>\n",
       "</div>"
      ],
      "text/plain": [
       "   Country   Age   Salary Purchased\n",
       "0   France  44.0  72000.0        No\n",
       "1    Spain  27.0  48000.0       Yes\n",
       "2  Germany  30.0  54000.0        No\n",
       "3    Spain  38.0  61000.0        No\n",
       "4  Germany  40.0      NaN       Yes\n",
       "5   France  35.0  58000.0       Yes\n",
       "6    Spain   NaN  52000.0        No\n",
       "7   France  48.0  79000.0       Yes\n",
       "8  Germany  50.0  83000.0        No\n",
       "9   France  37.0  67000.0       Yes"
      ]
     },
     "execution_count": 75,
     "metadata": {},
     "output_type": "execute_result"
    }
   ],
   "source": [
    "df = pd.read_csv(\"data.csv\")\n",
    "df"
   ]
  },
  {
   "cell_type": "code",
   "execution_count": 76,
   "id": "47576a2a",
   "metadata": {},
   "outputs": [],
   "source": [
    "df.Age.fillna(df.Age.mean(),inplace=True)"
   ]
  },
  {
   "cell_type": "code",
   "execution_count": 77,
   "id": "78b8271a",
   "metadata": {},
   "outputs": [],
   "source": [
    "df.Salary = df.Salary.fillna(method=\"ffill\")"
   ]
  },
  {
   "cell_type": "code",
   "execution_count": 78,
   "id": "b9fac6d6",
   "metadata": {},
   "outputs": [],
   "source": [
    "y = df.Purchased"
   ]
  },
  {
   "cell_type": "code",
   "execution_count": 79,
   "id": "bc113bfe",
   "metadata": {},
   "outputs": [],
   "source": [
    "df.drop(columns=\"Purchased\",inplace=True)"
   ]
  },
  {
   "cell_type": "code",
   "execution_count": 80,
   "id": "14cc6ddf",
   "metadata": {},
   "outputs": [],
   "source": [
    "df = createDummies(df,\"Country\")"
   ]
  },
  {
   "cell_type": "code",
   "execution_count": 81,
   "id": "20b72d45",
   "metadata": {},
   "outputs": [
    {
     "data": {
      "text/html": [
       "<div>\n",
       "<style scoped="">\n",
       "    .dataframe tbody tr th:only-of-type {\n",
       "        vertical-align: middle;\n",
       "    }\n",
       "\n",
       "    .dataframe tbody tr th {\n",
       "        vertical-align: top;\n",
       "    }\n",
       "\n",
       "    .dataframe thead th {\n",
       "        text-align: right;\n",
       "    }\n",
       "</style>\n",
       "\n",
       "  \n",
       "    \n",
       "      \n",
       "      \n",
       "      \n",
       "      \n",
       "      \n",
       "    \n",
       "  \n",
       "  \n",
       "    \n",
       "      \n",
       "      \n",
       "      \n",
       "      \n",
       "      \n",
       "    \n",
       "    \n",
       "      \n",
       "      \n",
       "      \n",
       "      \n",
       "      \n",
       "    \n",
       "    \n",
       "      \n",
       "      \n",
       "      \n",
       "      \n",
       "      \n",
       "    \n",
       "    \n",
       "      \n",
       "      \n",
       "      \n",
       "      \n",
       "      \n",
       "    \n",
       "    \n",
       "      \n",
       "      \n",
       "      \n",
       "      \n",
       "      \n",
       "    \n",
       "    \n",
       "      \n",
       "      \n",
       "      \n",
       "      \n",
       "      \n",
       "    \n",
       "    \n",
       "      \n",
       "      \n",
       "      \n",
       "      \n",
       "      \n",
       "    \n",
       "    \n",
       "      \n",
       "      \n",
       "      \n",
       "      \n",
       "      \n",
       "    \n",
       "    \n",
       "      \n",
       "      \n",
       "      \n",
       "      \n",
       "      \n",
       "    \n",
       "    \n",
       "      \n",
       "      \n",
       "      \n",
       "      \n",
       "      \n",
       "    \n",
       "  \n",
       "<table border="\&quot;1\&quot;" class="\&quot;dataframe\&quot;"><thead><tr style="\&quot;text-align:" right;\"=""><th></th><th>Age</th><th>Salary</th><th>Country_Germany</th><th>Country_Spain</th></tr></thead><tbody><tr><th>0</th><td>44.000000</td><td>72000.0</td><td>0</td><td>0</td></tr><tr><th>1</th><td>27.000000</td><td>48000.0</td><td>0</td><td>1</td></tr><tr><th>2</th><td>30.000000</td><td>54000.0</td><td>1</td><td>0</td></tr><tr><th>3</th><td>38.000000</td><td>61000.0</td><td>0</td><td>1</td></tr><tr><th>4</th><td>40.000000</td><td>61000.0</td><td>1</td><td>0</td></tr><tr><th>5</th><td>35.000000</td><td>58000.0</td><td>0</td><td>0</td></tr><tr><th>6</th><td>38.777778</td><td>52000.0</td><td>0</td><td>1</td></tr><tr><th>7</th><td>48.000000</td><td>79000.0</td><td>0</td><td>0</td></tr><tr><th>8</th><td>50.000000</td><td>83000.0</td><td>1</td><td>0</td></tr><tr><th>9</th><td>37.000000</td><td>67000.0</td><td>0</td><td>0</td></tr></tbody></table>\n",
       "</div>"
      ],
      "text/plain": [
       "         Age   Salary  Country_Germany  Country_Spain\n",
       "0  44.000000  72000.0                0              0\n",
       "1  27.000000  48000.0                0              1\n",
       "2  30.000000  54000.0                1              0\n",
       "3  38.000000  61000.0                0              1\n",
       "4  40.000000  61000.0                1              0\n",
       "5  35.000000  58000.0                0              0\n",
       "6  38.777778  52000.0                0              1\n",
       "7  48.000000  79000.0                0              0\n",
       "8  50.000000  83000.0                1              0\n",
       "9  37.000000  67000.0                0              0"
      ]
     },
     "execution_count": 81,
     "metadata": {},
     "output_type": "execute_result"
    }
   ],
   "source": [
    "df"
   ]
  },
  {
   "cell_type": "code",
   "execution_count": 82,
   "id": "0fe36cd1",
   "metadata": {},
   "outputs": [
    {
     "data": {
      "text/plain": [
       "0"
      ]
     },
     "execution_count": 82,
     "metadata": {},
     "output_type": "execute_result"
    }
   ],
   "source": [
    "count_outliers(df, \"Age\")"
   ]
  },
  {
   "cell_type": "code",
   "execution_count": 83,
   "id": "0d9c3851",
   "metadata": {},
   "outputs": [
    {
     "data": {
      "text/plain": [
       "0"
      ]
     },
     "execution_count": 83,
     "metadata": {},
     "output_type": "execute_result"
    }
   ],
   "source": [
    "count_outliers(df, \"Salary\")"
   ]
  },
  {
   "cell_type": "code",
   "execution_count": 84,
   "id": "8d690043",
   "metadata": {},
   "outputs": [
    {
     "name": "stderr",
     "output_type": "stream",
     "text": [
      "<ipython-input-84-0099256de719>:1: SettingWithCopyWarning: \n",
      "A value is trying to be set on a copy of a slice from a DataFrame\n",
      "\n",
      "See the caveats in the documentation: https://pandas.pydata.org/pandas-docs/stable/user_guide/indexing.html#returning-a-view-versus-a-copy\n",
      "  df[\"Age\"][6]=100\n",
      "<ipython-input-84-0099256de719>:2: SettingWithCopyWarning: \n",
      "A value is trying to be set on a copy of a slice from a DataFrame\n",
      "\n",
      "See the caveats in the documentation: https://pandas.pydata.org/pandas-docs/stable/user_guide/indexing.html#returning-a-view-versus-a-copy\n",
      "  df[\"Salary\"][6]=900\n"
     ]
    }
   ],
   "source": [
    "df[\"Age\"][6]=100\n",
    "df[\"Salary\"][6]=900"
   ]
  },
  {
   "cell_type": "code",
   "execution_count": 85,
   "id": "5913d33b",
   "metadata": {},
   "outputs": [
    {
     "data": {
      "text/html": [
       "<div>\n",
       "<style scoped="">\n",
       "    .dataframe tbody tr th:only-of-type {\n",
       "        vertical-align: middle;\n",
       "    }\n",
       "\n",
       "    .dataframe tbody tr th {\n",
       "        vertical-align: top;\n",
       "    }\n",
       "\n",
       "    .dataframe thead th {\n",
       "        text-align: right;\n",
       "    }\n",
       "</style>\n",
       "\n",
       "  \n",
       "    \n",
       "      \n",
       "      \n",
       "      \n",
       "      \n",
       "      \n",
       "    \n",
       "  \n",
       "  \n",
       "    \n",
       "      \n",
       "      \n",
       "      \n",
       "      \n",
       "      \n",
       "    \n",
       "    \n",
       "      \n",
       "      \n",
       "      \n",
       "      \n",
       "      \n",
       "    \n",
       "    \n",
       "      \n",
       "      \n",
       "      \n",
       "      \n",
       "      \n",
       "    \n",
       "    \n",
       "      \n",
       "      \n",
       "      \n",
       "      \n",
       "      \n",
       "    \n",
       "    \n",
       "      \n",
       "      \n",
       "      \n",
       "      \n",
       "      \n",
       "    \n",
       "    \n",
       "      \n",
       "      \n",
       "      \n",
       "      \n",
       "      \n",
       "    \n",
       "    \n",
       "      \n",
       "      \n",
       "      \n",
       "      \n",
       "      \n",
       "    \n",
       "    \n",
       "      \n",
       "      \n",
       "      \n",
       "      \n",
       "      \n",
       "    \n",
       "    \n",
       "      \n",
       "      \n",
       "      \n",
       "      \n",
       "      \n",
       "    \n",
       "    \n",
       "      \n",
       "      \n",
       "      \n",
       "      \n",
       "      \n",
       "    \n",
       "  \n",
       "<table border="\&quot;1\&quot;" class="\&quot;dataframe\&quot;"><thead><tr style="\&quot;text-align:" right;\"=""><th></th><th>Age</th><th>Salary</th><th>Country_Germany</th><th>Country_Spain</th></tr></thead><tbody><tr><th>0</th><td>44.0</td><td>72000.0</td><td>0</td><td>0</td></tr><tr><th>1</th><td>27.0</td><td>48000.0</td><td>0</td><td>1</td></tr><tr><th>2</th><td>30.0</td><td>54000.0</td><td>1</td><td>0</td></tr><tr><th>3</th><td>38.0</td><td>61000.0</td><td>0</td><td>1</td></tr><tr><th>4</th><td>40.0</td><td>61000.0</td><td>1</td><td>0</td></tr><tr><th>5</th><td>35.0</td><td>58000.0</td><td>0</td><td>0</td></tr><tr><th>6</th><td>100.0</td><td>900.0</td><td>0</td><td>1</td></tr><tr><th>7</th><td>48.0</td><td>79000.0</td><td>0</td><td>0</td></tr><tr><th>8</th><td>50.0</td><td>83000.0</td><td>1</td><td>0</td></tr><tr><th>9</th><td>37.0</td><td>67000.0</td><td>0</td><td>0</td></tr></tbody></table>\n",
       "</div>"
      ],
      "text/plain": [
       "     Age   Salary  Country_Germany  Country_Spain\n",
       "0   44.0  72000.0                0              0\n",
       "1   27.0  48000.0                0              1\n",
       "2   30.0  54000.0                1              0\n",
       "3   38.0  61000.0                0              1\n",
       "4   40.0  61000.0                1              0\n",
       "5   35.0  58000.0                0              0\n",
       "6  100.0    900.0                0              1\n",
       "7   48.0  79000.0                0              0\n",
       "8   50.0  83000.0                1              0\n",
       "9   37.0  67000.0                0              0"
      ]
     },
     "execution_count": 85,
     "metadata": {},
     "output_type": "execute_result"
    }
   ],
   "source": [
    "df"
   ]
  },
  {
   "cell_type": "code",
   "execution_count": 86,
   "id": "be594010",
   "metadata": {},
   "outputs": [
    {
     "data": {
      "text/plain": [
       "1"
      ]
     },
     "execution_count": 86,
     "metadata": {},
     "output_type": "execute_result"
    }
   ],
   "source": [
    "count_outliers(df, \"Age\")"
   ]
  },
  {
   "cell_type": "code",
   "execution_count": 87,
   "id": "634efe32",
   "metadata": {},
   "outputs": [
    {
     "data": {
      "text/plain": [
       "1"
      ]
     },
     "execution_count": 87,
     "metadata": {},
     "output_type": "execute_result"
    }
   ],
   "source": [
    "count_outliers(df, \"Salary\")"
   ]
  },
  {
   "cell_type": "code",
   "execution_count": 88,
   "id": "4e3c0c95",
   "metadata": {},
   "outputs": [
    {
     "data": {
      "text/plain": [
       "(39.0, 35.5, 47.0, 11.5, 18.25, 64.25)"
      ]
     },
     "execution_count": 88,
     "metadata": {},
     "output_type": "execute_result"
    }
   ],
   "source": [
    "get_iqr_values(df, \"Age\")"
   ]
  },
  {
   "cell_type": "code",
   "execution_count": 91,
   "id": "485e9786",
   "metadata": {},
   "outputs": [],
   "source": [
    "df1 = remove_outliers(df, \"Age\")"
   ]
  },
  {
   "cell_type": "code",
   "execution_count": 90,
   "id": "c0775f1d",
   "metadata": {},
   "outputs": [
    {
     "name": "stderr",
     "output_type": "stream",
     "text": [
      "C:\\Users\\ACER\\anaconda3\\lib\\site-packages\\seaborn\\_decorators.py:36: FutureWarning: Pass the following variable as a keyword arg: x. From version 0.12, the only valid positional argument will be `data`, and passing other arguments without an explicit keyword will result in an error or misinterpretation.\n",
      "  warnings.warn(\n"
     ]
    },
    {
     "data": {
      "image/png": "iVBORw0KGgoAAAANSUhEUgAAAg8AAAEWCAYAAADhFHRsAAAAOXRFWHRTb2Z0d2FyZQBNYXRwbG90bGliIHZlcnNpb24zLjMuNCwgaHR0cHM6Ly9tYXRwbG90bGliLm9yZy8QVMy6AAAACXBIWXMAAAsTAAALEwEAmpwYAAAdHklEQVR4nO3deZhcZZn38e9Nwh4QCIoShIhBGUFBREVQZBQ0KrgyIygaVHQcNQac0RGXEREdt/d1icuAG0RQRnFDh50RVFxBQciwGDEIUUgIiywRDdzzx3PanFS6uuvpNKlq+vu5rrq662x113NOnfM7zznVHZmJJElSr9brdwGSJGliMTxIkqQqhgdJklTF8CBJkqoYHiRJUhXDgyRJqtLX8BARx0TEyc3v20fEnRExpZ81SRNFRLwjIj7f7zomqohYGBH7jfe0GjweX8bfwPQ8ZObvM3NaZt67rl4zIo6MiGsj4k8R8YeI+FhETG2N3zsifh4Rd0TEryPiqSMsKyLiQxGxvHl8OCKiNX5mRHw/Iu6OiKsiYv9xfB8nRMTVEXFfRBw+xmUc0izj9ohYGhEnRcTmrfEXRMSfmw/gnRFx9QjLOjwi7m1Ne2d7xxsRW0XEtyLiroi4LiJeNpaau7z29yNiWbNOL4uIF6zl8r4UERkRs1rDFna8t5UR8d0RlvGy5n3eFRHfjoitWuM2jIgvNvXeGBFv6bW2zPxAZh4x9nfXm4jYNSLOjoibI2KNPwwTEW+KiIsj4p6IOHGUZfVt2+iUmbtk5gXjPe0giIiHRcTpzX4tI2Jmx/itIuK/mnV6c0Sc0v68d0z7vIj4UUTc1myjn4uIzVrjT4yIv3Ss04E6SPfj+DIeImKPiPhB06Y3RcS8YaZ5erOOjxthOW+NiCuaY9nvIuKtHeMXR8SK1vo7Z7TaBiY89Ml3gT0yc3NgV2A34M1QPlzA6cBHgC2ADwPfjYgtuyzrdcALm2U8DjgQ+KfW+K8CvwKmA+8ETouIB4/T+7gMeAPwy7VYxkXAPpn5IGBHYCrQuTG+qfkATsvMR4+yvJ+0pp3WseP9NPAXYBvg5cBnI2KXtai9bR7wsGadvg44OSIeNpYFRQmLj+wc3hxIpmXmNGAz4PfA17ssYxfgeOAVlPd7N/CZ1iTHADsBOwB/D7wtImaPpd4a0QrJPfgr8DXgNV3G/4GyrXyxx+X1a9uYTO4DzgJe0mX8ccCWlM/6IyntfUyXaR/UTL8t8HfAdpT9YtuHO9bphDpID6KI2JqyDo+nHDdmAed0TLM+8AngZ6MtDnglZZ3PBt4UEYd0THNQa/09a9QCM3PEB7AYeCvwa+Au4AuUDe1M4A7gPGDL1vR7AT8GbqMc1PZrjXsEcGEz37nAp4CTm3EzgQSmNs9fBVzZTHst8E+t5ewH3AD8C7AU+CPwqtHeyyjvc3rzXj7TPD8QWNgxzTXAa7rM/2Pgda3nrwF+2vz+KOAeYLPW+B8Cr++xtq7t1jHdj4DD16YdmuVMAxYAZ7SGXQAc0eP8hwM/6jJuU8rB4VGtYV8GPlixnk4H/gT8HHjfCK/1JODPwJPG0AZTKWHvcc12OavLdE8H7gQ27TL+A8BXWs8f2bz/zZrnS4Bntca/Dzi1xxqPaW8HlIByHbCcElAXA/u3pj0NOLlpu57WZcfrzQJyhPHHASf2cds4kRLMzmzWyUXAQ4GPA7cCVwGPb03f2T5fa7b7O4CFwJ4jTPv1pi3vAC6nfMaPpuyPru9Yp3+bt3O9sWq/96pmvluB1wNPpOxzbwM+VbuuOrbjBGZ2DD8TeEPr+RuBs3tc5ouByzva/bgx1lfbliMdF/4N+CmrjiH/3KzHjVjz+HJBs73+uNlWvkvZt5xC+Xz8YqjNOudtzX9Ea5u+CPhYs76uBfZuhl/fvI85Y2ibDwBfHmWat1NObKvWAfBJYH63bbSXR689Dy8BDmhW6kGUDe8dwNaU3ouhs/UZwH83K2Ur4F+Bb7TOsL8CXNLM9z5gzgivuZRyAN+cssF8LCL2aI1/KCURz6AcqD891CsQEW9vutiGfbRfpOlS/hNwM6XX4PihUc1jtckpPRTD2YUSloZc1gwbGndtZt7RZfxoatpt9YLL++vaFhGxfWvap0bE7ZQP5ksoO922/2i6OC+K0a//Pr6Z9pqIeHfrTPdRwL2ZeU1r2pq2+DQlEDwMeHXz6HzP34uIP1PS+AXAxa33N1JbtC9LHQX8IDN/PUo9c4DTMvOuLuNX2y4y87c0B8hme92W7ttNzyLiMcBnKQFiW8qOcLuOyV5ACRBbAKfUbBvj7P7aNgD+EXgX5bNyD/ATSo/c1pT3/v9HmPf5wKmU9jmdEtK7OYgSbLakhMyzKfvCGcCxrNqP9OrJlB6ol1I+d+8E9qe893+MiKdD9TY8kk8DB0bEls12+BLKfr0X+1IOym1viIhbIuKSiOjW29FNTVuOdFz4COWz9a6I2Ily8D0sM//c5XUPoXxeZlBC/U+AL1GOXVcC76l4D0+mhL3plP31qZQAOAs4DPhUREyDquPTXsAtEfHjKJeSv9uxv96Bsv87tqJOIiKAp7HmOjwlyiXfcyJit1EX1ENCWQy8vPX8G8BnW8/nAt9uJb8vd8x/NmUHuz2wktYZGqWRh+15GKaObwPzmt/3A1awehJcCuw1lvTbzL8T5cD80Ob5dEqKPBRYv3kP9wHHd5n/XmDnjuUlJXC8gqYXojX+/YxyltZMN2K7dUw7Xj0PMyhnBO0zwCdTuug3bNriDuCRXebfkdJbsh7wWOB/gaObcU8DbuyY/rXABT3UNYXShd5u5w8wzJlss86eAxw1hvf/cGAR8KDm+bA9D8AmlLOU/UZY1vl09DBRehv2a14ngY1a4w4AFvdY5zGtz8+/0+qxYNVZfPts+QdruV2MR8/D/bJtNNOeCHyu9XwucGXr+WOB21rPF3e0z3mtcY8BVoww7bmtcQdRzl6nNM83a9brFp3zDrPeZjbTzmiNXw68tPX8G8CRY1xn3XoetqX0tN7XPM4FNuhheQdQekfa+4Y9KPvLqcBzKfuGfSq24Z7bcpj5v01zXGi15y2Ug//RHcM7ex7e2Rr//4AzO+q4dLh5W/O3ex5+07GdJbBNxzrdvXLdXUM5Bj2R0nvySeCi1vjvDG0nVPQ8AO+lhPINW8P2ATam7NOOBm7s1uZDj157Hm5q/b5imOfTmt93AP6hI0U9lXKWuC1wa65+hnZdtxeMiOdExE+bNHsbZaPcujXJ8sxc2Xp+d6uOapn5G0oS+0zzfDnlTO0tlPc7m/Jhu6HLIu6kpOEhmwN3ZlkzneOGxt/B6KrabTxk5hLKtbZTW8N+lpl3ZOY9mXkSpZvuuV3mvzYzf5eZ92Xm5ZRkfHAzem3a4sGUHdT1rWHDtkVm/jUzzwSeHRHP72HZbR8Hjs3M20eZ7sWUHdWFI0wz0vu9s/W8c1ytbWm1S7O9LO+Y5nr67H7cNob0uq8azo2t3+8GNhrh3pDO5d6cq67zr2h+1uyP1qbusfg65eC0GaWNf0u5dNBVROxFOXE5OFu9Q5n5y8xcnpkrM/MMStf/iytq6bktRzsuZOZi4PuUA/6nK193bdq8c14yc23X4QrgW5n5iyy9J+8F9o6IB0XEQZRLn/9Vs8CIeBPl3ofnZeY9Q8Mz86LMXJGZd2fmf1BCy9NGWtZ43zB5PaXnYYvWY9PM/CDlvoQtI2LT1vTDdotGxIaUtP1RSnrbAjiDNS8jDCvKV9ju7PYYYdaptG6Qy8wLM/OJmbkVpffg0ZTr7MNZSLnsMWQ3VnULLQR2jNYdyh3jR9Jzuw0nIl4+UluM0DW9WlsMY6hXpRftaa8BpjbdikN6bYtllF6Yh7eGjdYWf3sfEfG0Udpi6MPyTOAjUe4sHzqg/CTWvPN/DrCgCYjdrLZdRMSOlN6bazLzVsr67bbd1PgjrXaJiE0oZ4Ntq9W5FtvGeBqvbWOQ3UU5oxvy0LEuqGIbHs1ulF7UuzLzTuA/6XIy0Lzu4ymXcl6dmeePsuyafUPPejkuRMRzgadQevw6b+ocq6ETt/Fah70en37N6p/Zod+Dso/as7WPeilwZER8Z4TXfTXlHolnZma3k+D2a424Dsc7PJwMHBQRz46IKRGxUUTsFxHbZeZ1lGvP742IDZprcwd1Wc4GlB3sMmBlRDwHGP3uz0aWr7BN6/YYmi4ijoiIhzS/P4bSXXN+a/zjI2L9KF9h+ihwQ2ae3eVlFwBviYgZEbEt5WbOE5t6rgEuBd7TtMmLKDfifaN5nZkxzNepmnlHbbdm+EaUlb1+8xrrNfOfMlJbZObvm2W8PMp3oSPKtbT3D7VFRGzRrNONImJqRLycct1z2LZozg62aX7fGXg3pYtt6Iz4m8CxEbFpROxD6eH5cmv+jGHuqWjORr4JHBMRmzTrbE5rvp2b1964WW+HNXVe2Mz/w1Ha4ofNoh5F2bnu3jxo2vxbrdfajvLtiJOGa4OWUyifiac1AfBY4Ju56v6XBZRrtFs2bfVamu2meZ3F0dvXb0+jXMN+akRs0LzOiJ/vim0jmu1rg+b5Rs2OfKjGqc34KcDQ537YM/b7a9sYcJcChzTb5J6s6mmpVrEN06yTofW0YfN8yC+AI5rPysaUbya17735m4jYldITOTcz1/hKckQcHBHTImK9iHgW5Rr/6a3xvW7DoxnxuBDl2wlfAI6g7BcOasLEWsnMZZRLjYc1x7VXM/KJ1WjL6+n4RLn/4kURsXuUb1W8m3KJ9rbm90exah91OvA5yn0ga2j22R8ADsjMazvGbR8R+wwdR6J8jXNrSu9yV+MaHjLzesqH/R2UFXw95ZsaQ6/zMsq181soN6Ms6LKcOyg3YX6Ncn3tZbQ2xnG0D3B5RNxFSbBnNLUPeRvlRsrrKZdeXjQ0ojkYtFPi8ZQ7di8HrqDcONq+0ecQYE/K+/kgpetvWTPu4ZTu9yVd6hyt3c6hdHHtDZzQ/L7vyG99DY9h1Z3HFwFXUw5kUO4fOI6yTm+mXEt+YWZeDav9AZahM9VnAr9utes3KRvukDdQrq8tpXyF9Z8zc2GzrO2aGi7vUuebKN1/N1IOsl9qjQvKNdSlTa3zKNcEq77CmplLM/PGoUcz+ObMXNGa7BWUrxz+tnP+aJ0BNu/r9ZQQsZTSTfyG1uTvoXQZX0cJOR/JzLOa5WxA6T34aQ81L6TcMf8VSi/ErXS/xFZrB8o2NdQDsIKyfQx5VzPs7ZQDx4pm2LreNgbVuykHm1spXc9fWUevu4JVl8auYtUlACg32s2kbCNLKPeiHD40MlbvxfgXyiXDL8SqM+R2b9C8Zhm3Uc72X5vN129rtuHR9HBcOAH4TmaekeWy82uAz0dEZw/cWLyWcixbTrmJ9cfjsMwRZeb/UI5H/035PMyivGeyXEJu76NWAHdl5i0w7PHpOMp6+EVrHf5nM24zys3Wt1LW42zgOU0bdhUj97hqXYiIdwHLMrOnO7Qj4hjKDXyH3a+F9UHTW7BLZh7d4/SHU25c6vUu8wmj6WV6Y2YeOsb5F1Pa5rxxLaxParcN9d/absMaXDV/KEb3k8zs+pfBJpvMHPGmrckkM39E+QaNcNuYiNyGH7gm+1+YlCRJlbxsIUmSqtjzIEmSqnjPwwDYeuutc+bMmf0uQ5ImjEsuueTmzByvfy6oSoaHATBz5kwuvvjifpchSRNGRNyvf2lXI/OyhSRJqmJ4kCRJVQwPkiSpiuFBkiRVMTxIkqQqhgdJklTF8CBJkqoYHiRJUhXDgyRJqmJ4kCRJVQwPkiSpiuFBkiRVMTxIkqQqhgdJklTF8CBJkqoYHiRJUhXDgyRJqmJ4kCRJVQwPkiSpytR+F6AHhvnz57No0aIxzbtkyRIAZsyYMZ4lVZs1axZz587taw2SNBEYHjQuFi1axKVXXMm9m2xVPe+Uu28H4MZ7+rc5Trn7lr69tiRNNIYHjZt7N9mKFTs/t3q+ja86A2BM846XoRokSaPzngdJklTF8CBJkqoYHiRJUhXDgyRJqmJ4kCRJVQwPkiSpiuFBkiRVMTxIkqQqhgdJklTF8CBJkqoYHiRJUhXDgyRJqmJ4kCRJVQwPkiSpiuFBkiRVMTxIkqQqhgdJklTF8CBJkqoYHiRJUhXDgyRJqmJ4kCRJVQwPkiSpiuFBkiRVMTxIkqQqhgdJklTF8CBJkqoYHiRJUhXDgyRJqmJ4kCRJVQwPkiSpiuFBkiRVMTxIkqQqhgdJklTF8CBJkqoYHiRJUhXDgyRJqmJ4kCRJVQwPkiSpiuFBkiRVMTxIkqQqhgdJklTF8DCBzZ8/n/nz5/e7jEnL9pc0WU3tdwEau0WLFvW7hEnN9pc0WdnzIEmSqhgeJElSFcODJEmqYniQJElVDA+SJKmK4UGSJFUxPEiSpCqGB0mSVMXwIEmSqhgeJElSFcODJEmqYniQJElVDA+SJKmK4UGSJFUxPEiSpCqGB0mSVMXwIEmSqhgeJElSFcODJEmqYniQJElVDA+SJKmK4UGSJFUxPEiSpCqGB0mSVMXwIEmSqhgeJElSFcODJEmqYniQJElVDA+SJKmK4UGSJFUxPEiSpCqGB0mSVMXwIEmSqhgeJElSFcODJEmqYniQJElVDA+SJKmK4UGSJFUxPEiS1rnly5fz5je/meXLl/e7FI2B4UGStM6ddNJJXH755SxYsKDfpWgMDA+SpHVq+fLlnHXWWWQmZ511lr0PE9DUfhegsVuyZAkrVqxg3rx5/S6FRYsWsd5fst9ljNl6f/4TixbdUdWWixYtYuONN74fq5IemE466STuu+8+AO69914WLFjAUUcd1eeqVMOehz6JiNdFxMURcfGyZcv6XY4krTPnnXceK1euBGDlypWce+65fa5Itex56JPMPAE4AWDPPfcc0yn7jBkzAPjEJz4xfoWN0bx587jk2pv6XcaY3bfR5szacZuqthyEHh9pItp///0544wzWLlyJVOnTuWAAw7od0mqZM+DJGmdmjNnDuutVw4/U6ZM4ZWvfGWfK1Itw4MkaZ2aPn06s2fPJiKYPXs206dP73dJquRlC0nSOjdnzhwWL15sr8MEZXiQJK1z06dP55Of/GS/y9AYedlCkiRVMTxIkqQqhgdJklTF8CBJkqoYHiRJUhXDgyRJqmJ4kCRJVQwPkiSpiuFBkiRVMTxIkqQqhgdJklTF8CBJkqoYHiRJUhXDgyRJqmJ4kCRJVQwPkiSpiuFBkiRVMTxIkqQqhgdJklTF8CBJkqoYHiRJUhXDgyRJqmJ4kCRJVQwPkiSpiuFBkiRVMTxIkqQqhgdJklTF8CBJkqoYHiRJUhXDgyRJqmJ4kCRJVQwPkiSpiuFBkiRVMTxIkqQqhgdJklTF8CBJkqoYHiRJUhXDgyRJqjK13wVo7GbNmtXvEiY121/SZGV4mMDmzp3b7xImNdtf0mTlZQtJklTF8CBJkqoYHiRJUhXDgyRJqmJ4kCRJVQwPkiSpiuFBkiRVMTxIkqQqhgdJklTF8CBJkqoYHiRJUhXDgyRJqmJ4kCRJVQwPkiSpiuFBkiRVMTxIkqQqhgdJklTF8CBJkqoYHiRJUhXDgyRJqmJ4kCRJVQwPkiSpiuFBkiRVMTxIkqQqhgdJklTF8CBJkqoYHiRJUhXDgyRJqmJ4kCRJVQwPkiSpiuFBkiRVMTxIkqQqhgdJklTF8CBJkqoYHiRJUhXDgyRJqmJ4kCRJVQwPkiSpiuFBkiRVMTxIkqQqU/tdgB44ptx9CxtfdcYY5lsOMKZ5x8uUu28Btunb60vSRGJ40LiYNWvWmOddsmQlADNm9PPgvc1avQdJmkwMDxoXc+fO7XcJkqR1xHseJElSFcODJEmqYniQJElVDA+SJKmK4UGSJFUxPEiSpCqGB0mSVMXwIEmSqhgeJElSFcODJEmqYniQJElVDA+SJKmK4UGSJFUxPEiSpCqGB0mSVMXwIEmSqhgeJElSFcODJEmqYniQJElVDA+SJKlKZGa/a5j0ImIZcN06ermtgZvX0WutDescPxOhRrDO8TQRaoS1q3OHzHzweBaj3hkeJpmIuDgz9+x3HaOxzvEzEWoE6xxPE6FGmDh1ak1etpAkSVUMD5IkqYrhYfI5od8F9Mg6x89EqBGsczxNhBph4tSpDt7zIEmSqtjzIEmSqhgeJElSFcPDA1hEbBQRP4+IyyJiYUS8txm+VUScGxG/aX5uOQC1TomIX0XE9wa4xsURcXlEXBoRFw9wnVtExGkRcVVEXBkRTxmkOiPi0U0bDj3+FBFHDlKNrVqPaj47V0TEV5vP1CDWOa+pcWFEHNkM63udEfHFiFgaEVe0hnWtKyKOjohFEXF1RDx7Xder3hkeHtjuAZ6RmbsBuwOzI2Iv4O3A+Zm5E3B+87zf5gFXtp4PYo0Af5+Zu7e+mz6IdX4COCszdwZ2o7TrwNSZmVc3bbg78ATgbuBbg1QjQETMAN4M7JmZuwJTgEMYvDp3BV4LPImyvg+MiJ0YjDpPBGZ3DBu2roh4DKV9d2nm+UxETFl3paqG4eEBLIs7m6frN48EXgCc1Aw/CXjhuq9ulYjYDnge8PnW4IGqcQQDVWdEbA7sC3wBIDP/kpm3MWB1tjwT+G1mXsdg1jgV2DgipgKbAH9g8Or8O+CnmXl3Zq4ELgRexADUmZk/AG7pGNytrhcAp2bmPZn5O2ARJRBpABkeHuCaywGXAkuBczPzZ8A2mflHgObnQ/pYIsDHgbcB97WGDVqNUILXORFxSUS8rhk2aHXuCCwDvtRcBvp8RGzK4NU55BDgq83vA1VjZi4BPgr8HvgjcHtmnsOA1QlcAewbEdMjYhPgucDDGbw6h3SrawZwfWu6G5phGkCGhwe4zLy36R7eDnhS08U5MCLiQGBpZl7S71p6sE9m7gE8B3hjROzb74KGMRXYA/hsZj4euIvBuJSyhojYAHg+8PV+1zKc5lr8C4BHANsCm0bEYf2tak2ZeSXwIeBc4CzgMmBlX4samxhmmH9LYEAZHiaJpuv6Asq1xJsi4mEAzc+l/auMfYDnR8Ri4FTgGRFxMoNVIwCZ+Yfm51LKNfonMXh13gDc0PQwAZxGCRODVieUEPbLzLypeT5oNe4P/C4zl2XmX4FvAnszeHWSmV/IzD0yc1/KZYLfMIB1NrrVdQOlx2TIdpTLRBpAhocHsIh4cERs0fy+MWVneBVwOjCnmWwO8J2+FAhk5tGZuV1mzqR0Yf9PZh7GANUIEBGbRsRmQ78Dz6J0Fw9UnZl5I3B9RDy6GfRM4H8ZsDobh7LqkgUMXo2/B/aKiE0iIihteSWDVycR8ZDm5/bAiyntOnB1NrrVdTpwSERsGBGPAHYCft6H+tQD/8LkA1hEPI5yQ9IUSlD8WmYeGxHTga8B21N2kP+QmZ03Na1zEbEf8K+ZeeCg1RgRO1J6G6BcGvhKZr5/0OoEiIjdKTefbgBcC7yKZv0zIHU21+avB3bMzNubYYPYlu8FXkq5DPAr4AhgGoNX5w+B6cBfgbdk5vmD0J4R8VVgP8q/3r4JeA/w7W51RcQ7gVdT2vvIzDxzXdar3hkeJElSFS9bSJKkKoYHSZJUxfAgSZKqGB4kSVIVw4MkSapieJAmsYh4UURkROzc71okTRyGB2lyOxT4EeUPdElSTwwP0iQVEdMofx78NTThISLWi4jPRMTCiPheRJwREQc3454QERc2/xjs7KE/MSxp8jE8SJPXC4GzMvMa4JaI2IPyp41nAo+l/DXFpwBExPrAfODgzHwC8EXg/X2oWdIAmNrvAiT1zaGUf4cO5Z+SHQqsD3w9M+8DboyI7zfjHw3sCpxb/s0DUyj/plrSJGR4kCah5v8ePAPYNSKSEgaSVf+/Y41ZgIWZ+ZR1VKKkAeZlC2lyOhhYkJk7ZObMzHw48DvgZuAlzb0P21D+qRHA1cCDI+JvlzEiYpd+FC6p/wwP0uR0KGv2MnwD2Ba4gfLvxo8Hfgbcnpl/oQSOD0XEZcClwN7rrFpJA8X/qilpNRExLTPvbC5t/BzYJzNv7HddkgaH9zxI6vS9iNgC2AB4n8FBUid7HiRJUhXveZAkSVUMD5IkqYrhQZIkVTE8SJKkKoYHSZJU5f8A8MyhWM9CpfwAAAAASUVORK5CYII=\n",
      "text/plain": [
       "<figure size="" 432x288="" with="" 1="" axes="">"
      ]
     },
     "metadata": {
      "needs_background": "light"
     },
     "output_type": "display_data"
    }
   ],
   "source": [
    "box_and_whisker(df, \"Age\")"
   ]
  },
  {
   "cell_type": "code",
   "execution_count": 92,
   "id": "0a36e107",
   "metadata": {},
   "outputs": [
    {
     "name": "stderr",
     "output_type": "stream",
     "text": [
      "C:\\Users\\ACER\\anaconda3\\lib\\site-packages\\seaborn\\_decorators.py:36: FutureWarning: Pass the following variable as a keyword arg: x. From version 0.12, the only valid positional argument will be `data`, and passing other arguments without an explicit keyword will result in an error or misinterpretation.\n",
      "  warnings.warn(\n"
     ]
    },
    {
     "data": {
      "image/png": "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\n",
      "text/plain": [
       "<figure size="" 432x288="" with="" 1="" axes="">"
      ]
     },
     "metadata": {
      "needs_background": "light"
     },
     "output_type": "display_data"
    }
   ],
   "source": [
    "box_and_whisker(df1, \"Age\")"
   ]
  },
  {
   "cell_type": "code",
   "execution_count": null,
   "id": "b723095a",
   "metadata": {},
   "outputs": [],
   "source": []
  }
 ],
 "metadata": {
  "kernelspec": {
   "display_name": "Python 3",
   "language": "python",
   "name": "python3"
  },
  "language_info": {
   "codemirror_mode": {
    "name": "ipython",
    "version": 3
   },
   "file_extension": ".py",
   "mimetype": "text/x-python",
   "name": "python",
   "nbconvert_exporter": "python",
   "pygments_lexer": "ipython3",
   "version": "3.8.8"
  }
 },
 "nbformat": 4,
 "nbformat_minor": 5
}
</figure></figure></ipython-input-84-0099256de719></ipython-input-84-0099256de719></class></figure></axessubplot:title={'center':'salary'}></axessubplot:title={'center':'age'}></figure></axessubplot:></class></class></body></html>